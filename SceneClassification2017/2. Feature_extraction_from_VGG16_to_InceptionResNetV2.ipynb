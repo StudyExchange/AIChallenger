{
 "cells": [
  {
   "cell_type": "markdown",
   "metadata": {
    "collapsed": true
   },
   "source": [
    "## 2. Feature_extraction_from_VGG16_to_InceptionResNetV2"
   ]
  },
  {
   "cell_type": "markdown",
   "metadata": {},
   "source": [
    "### References:\n",
    "1. https://github.com/ypwhs/dogs_vs_cats\n",
    "2. https://www.kaggle.com/yangpeiwen/keras-inception-xception-0-47"
   ]
  },
  {
   "cell_type": "markdown",
   "metadata": {
    "collapsed": true
   },
   "source": [
    "### Import pkgs"
   ]
  },
  {
   "cell_type": "code",
   "execution_count": 1,
   "metadata": {},
   "outputs": [
    {
     "name": "stderr",
     "output_type": "stream",
     "text": [
      "Using TensorFlow backend.\n"
     ]
    }
   ],
   "source": [
    "import h5py\n",
    "import os\n",
    "import time\n",
    "\n",
    "from keras.layers import *\n",
    "from keras.models import *\n",
    "from keras.applications import *\n",
    "from keras.optimizers import *\n",
    "from keras.regularizers import *\n",
    "from keras.preprocessing.image import *"
   ]
  },
  {
   "cell_type": "code",
   "execution_count": 2,
   "metadata": {
    "collapsed": true
   },
   "outputs": [],
   "source": [
    "def get_features(MODEL, image_size, batch_size=1, lambda_func=None):\n",
    "    print('{0} start.'.format(MODEL.__name__))\n",
    "    start_time = time.time()\n",
    "    \n",
    "    width = image_size[0]\n",
    "    height = image_size[1]\n",
    "    input_tensor = Input((height, width, 3))\n",
    "    x = input_tensor\n",
    "    if lambda_func:\n",
    "        print(lambda_func.__name__)\n",
    "        x = Lambda(lambda_func)(x)\n",
    "    base_model = MODEL(input_tensor=x, weights='imagenet', include_top=False)\n",
    "    model = Model(base_model.input, GlobalAveragePooling2D()(base_model.output))\n",
    "\n",
    "    cwd = os.getcwd()\n",
    "    data_train_path = os.path.join(cwd, 'input', 'data_train')\n",
    "    data_val_path = os.path.join(cwd, 'input', 'data_validation')\n",
    "#     data_test_a_path  = os.path.join(cwd, 'input', 'data_test_a')\n",
    "    data_test_b_path  = os.path.join(cwd, 'input', 'data_test_b')\n",
    "    \n",
    "    gen = ImageDataGenerator()\n",
    "#     gen = ImageDataGenerator(zoom_range = 0.1,\n",
    "#                             height_shift_range = 0.1,\n",
    "#                             width_shift_range = 0.1,\n",
    "#                             rotation_range = 10)\n",
    "    train_generator = gen.flow_from_directory(data_train_path, image_size, shuffle=False, \n",
    "                                              batch_size=batch_size)\n",
    "    val_generator  = gen.flow_from_directory(data_val_path,  image_size, shuffle=False, \n",
    "                                              batch_size=batch_size)\n",
    "#     test_a_generator  = gen.flow_from_directory(data_test_a_path,  image_size, shuffle=False, \n",
    "#                                               batch_size=batch_size)\n",
    "    test_b_generator  = gen.flow_from_directory(data_test_b_path,  image_size, shuffle=False, \n",
    "                                              batch_size=batch_size)\n",
    "    \n",
    "#     train = model.predict_generator(train_generator, verbose=1, steps=53879)\n",
    "#     val = model.predict_generator(val_generator, verbose=1, steps=7120)\n",
    "#     test = model.predict_generator(test_generator, verbose=1, steps=7040)\n",
    "    train = model.predict_generator(train_generator, verbose=1, steps=10, max_queue_size=128, workers=16)\n",
    "    val = model.predict_generator(val_generator, verbose=1, steps=10, max_queue_size=128, workers=16)\n",
    "#     test_a = model.predict_generator(test_a_generator, verbose=1, steps=10, max_queue_size=128, workers=16)\n",
    "    test_b = model.predict_generator(test_b_generator, verbose=1, steps=10, max_queue_size=128, workers=16)\n",
    "    \n",
    "#     print('filenames:' + str(len(val_generator.filenames)))\n",
    "#     print(val_generator.filenames[0:10])\n",
    "#     print('filenames:' + str(len(test_generator.filenames)))\n",
    "#     print(test_generator.filenames[0:10])\n",
    "    \n",
    "    file_name = os.path.join(cwd, 'model', 'feature_{0}_{1}.h5'.format(MODEL.__name__, 171202))\n",
    "    print(file_name)\n",
    "    if os.path.exists(file_name):\n",
    "        os.remove(file_name)\n",
    "    with h5py.File(file_name) as h:\n",
    "        h.create_dataset(\"train\", data=train)\n",
    "        h.create_dataset(\"train_label\", data=train_generator.classes)\n",
    "        h.create_dataset(\"val\", data=val)\n",
    "        h.create_dataset(\"val_label\", data=val_generator.classes)\n",
    "#         h.create_dataset(\"test_a\", data=test_a)\n",
    "        h.create_dataset(\"test_b\", data=test_b)\n",
    "        \n",
    "#     print(train.shape)\n",
    "#     print(len(train_generator.classes))\n",
    "#     print(val.shape)\n",
    "#     print(len(val_generator.classes))\n",
    "#     print(test.shape)\n",
    "    \n",
    "#     print(dir(train_generator))\n",
    "#     print(train_generator.samples)\n",
    "#     print(train_generator.image_shape)\n",
    "#     print(train_generator.classes)\n",
    "    \n",
    "    end_time = time.time()\n",
    "    print('Spend time: {0} s'.format(end_time-start_time))"
   ]
  },
  {
   "cell_type": "code",
   "execution_count": 3,
   "metadata": {},
   "outputs": [
    {
     "name": "stdout",
     "output_type": "stream",
     "text": [
      "Automatic pdb calling has been turned OFF\n"
     ]
    }
   ],
   "source": [
    "%pdb off"
   ]
  },
  {
   "cell_type": "code",
   "execution_count": 4,
   "metadata": {},
   "outputs": [
    {
     "name": "stdout",
     "output_type": "stream",
     "text": [
      "VGG16 start.\n",
      "Found 53879 images belonging to 80 classes.\n",
      "Found 7120 images belonging to 80 classes.\n",
      "Found 7078 images belonging to 1 classes.\n",
      "53879/53879 [==============================] - 399s 7ms/step\n",
      "7120/7120 [==============================] - 53s 7ms/step\n",
      "7078/7078 [==============================] - 53s 7ms/step\n",
      "E:\\AIChallenger\\SceneClassification2017\\model\\feature_VGG16_171202.h5\n",
      "Spend time: 517.0663092136383 s\n"
     ]
    }
   ],
   "source": [
    "get_features(VGG16, (224, 224), 1)"
   ]
  },
  {
   "cell_type": "code",
   "execution_count": 5,
   "metadata": {
    "collapsed": true
   },
   "outputs": [],
   "source": [
    "# get_features(VGG19, (224, 224), 1)"
   ]
  },
  {
   "cell_type": "code",
   "execution_count": 6,
   "metadata": {
    "collapsed": true
   },
   "outputs": [],
   "source": [
    "# get_features(ResNet50, (224, 224), 1)"
   ]
  },
  {
   "cell_type": "code",
   "execution_count": 7,
   "metadata": {
    "collapsed": true
   },
   "outputs": [],
   "source": [
    "# get_features(Xception, (299, 299), 1, xception.preprocess_input)"
   ]
  },
  {
   "cell_type": "code",
   "execution_count": 8,
   "metadata": {},
   "outputs": [
    {
     "name": "stdout",
     "output_type": "stream",
     "text": [
      "InceptionV3 start.\n",
      "preprocess_input\n",
      "Found 53879 images belonging to 80 classes.\n",
      "Found 7120 images belonging to 80 classes.\n",
      "Found 7078 images belonging to 1 classes.\n",
      "53879/53879 [==============================] - 2119s 39ms/step\n",
      "7120/7120 [==============================] - 278s 39ms/step\n",
      "7078/7078 [==============================] - 280s 40ms/step\n",
      "E:\\AIChallenger\\SceneClassification2017\\model\\feature_InceptionV3_171202.h5\n",
      "Spend time: 2724.4563817977905 s\n"
     ]
    }
   ],
   "source": [
    "get_features(InceptionV3, (299, 299), 1, inception_v3.preprocess_input)"
   ]
  },
  {
   "cell_type": "code",
   "execution_count": 9,
   "metadata": {},
   "outputs": [
    {
     "name": "stdout",
     "output_type": "stream",
     "text": [
      "InceptionResNetV2 start.\n",
      "preprocess_input\n",
      "Found 53879 images belonging to 80 classes.\n",
      "Found 7120 images belonging to 80 classes.\n",
      "Found 7078 images belonging to 1 classes.\n",
      "53879/53879 [==============================] - 4492s 83ms/step\n",
      "7120/7120 [==============================] - 594s 83ms/step\n",
      "7078/7078 [==============================] - 595s 84ms/step\n",
      "E:\\AIChallenger\\SceneClassification2017\\model\\feature_InceptionResNetV2_171202.h5\n",
      "Spend time: 5746.545301437378 s\n"
     ]
    }
   ],
   "source": [
    "get_features(InceptionResNetV2, (299, 299), 1, inception_resnet_v2.preprocess_input)"
   ]
  },
  {
   "cell_type": "code",
   "execution_count": 10,
   "metadata": {},
   "outputs": [
    {
     "name": "stdout",
     "output_type": "stream",
     "text": [
      "Done !\n"
     ]
    }
   ],
   "source": [
    "print('Done !')"
   ]
  },
  {
   "cell_type": "code",
   "execution_count": null,
   "metadata": {
    "collapsed": true
   },
   "outputs": [],
   "source": []
  }
 ],
 "metadata": {
  "kernelspec": {
   "display_name": "Python 3",
   "language": "python",
   "name": "python3"
  },
  "language_info": {
   "codemirror_mode": {
    "name": "ipython",
    "version": 3
   },
   "file_extension": ".py",
   "mimetype": "text/x-python",
   "name": "python",
   "nbconvert_exporter": "python",
   "pygments_lexer": "ipython3",
   "version": "3.5.4"
  }
 },
 "nbformat": 4,
 "nbformat_minor": 2
}
