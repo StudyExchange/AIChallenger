{
 "cells": [
  {
   "cell_type": "markdown",
   "metadata": {},
   "source": [
    "# 3. Train_NN\n",
    "\n",
    "**Tensorboard**\n",
    "- Input at command: tensorboard --logdir=./log\n",
    "- Input at browser: http://127.0.0.1:6006"
   ]
  },
  {
   "cell_type": "code",
   "execution_count": 1,
   "metadata": {},
   "outputs": [
    {
     "name": "stdout",
     "output_type": "stream",
     "text": [
      "run_name: SceneClassification_Train_NN_20171130_211657\n",
      "model_path: E:\\AIChallenger\\SceneClassification2017\\model\n",
      "feature_pca_file: E:\\AIChallenger\\SceneClassification2017\\model\\feature_pca_SceneClassification_Dim_reduction_20171130_204853.h5\n"
     ]
    }
   ],
   "source": [
    "import time\n",
    "import os\n",
    "import pandas as pd\n",
    "\n",
    "project_name = 'SceneClassification'\n",
    "step_name = 'Train_NN'\n",
    "time_str = time.strftime(\"%Y%m%d_%H%M%S\", time.localtime())\n",
    "run_name = project_name + '_' + step_name + '_' + time_str\n",
    "print('run_name: ' + run_name)\n",
    "\n",
    "cwd = os.getcwd()\n",
    "model_path = os.path.join(cwd, 'model')\n",
    "feature_pca_file = os.path.join(model_path, 'feature_pca_SceneClassification_Dim_reduction_20171130_204853.h5')\n",
    "print('model_path: ' + model_path)\n",
    "print('feature_pca_file: ' + feature_pca_file)"
   ]
  },
  {
   "cell_type": "code",
   "execution_count": 2,
   "metadata": {},
   "outputs": [
    {
     "name": "stdout",
     "output_type": "stream",
     "text": [
      "['00002ff812f48a3df27c321d517a6300ed8da0c3.jpg', '00049a860dca2af378faeb0ee6f435c6063818ef.jpg', '0011a9c9216c3763ffc33641a8ffc975127dc404.jpg', '0045a44cacc7bc9826db9b54d2dcd70b810250f9.jpg', '004b6823145471c6a4ce292e864909fde2d04969.jpg', '0056e4d54eee781117c9d407d03ebf7192126b1f.jpg', '005763f88b25b18ae524b25afcce960403665383.jpg', '005b5444df96e3a155f2a73a8dccc0267e118413.jpg', '005c6ba205a246d0d3c8f73adfd4398b8e483962.jpg', '005de85662d754f98a1476a37b189902800ace91.jpg']\n"
     ]
    }
   ],
   "source": [
    "test_images = os.listdir(os.path.join(cwd, 'input', 'data_test_a', 'test'))\n",
    "print(test_images[0:10])"
   ]
  },
  {
   "cell_type": "code",
   "execution_count": 3,
   "metadata": {},
   "outputs": [
    {
     "name": "stdout",
     "output_type": "stream",
     "text": [
      "(53879, 512)\n",
      "53879\n",
      "(7120, 512)\n",
      "7120\n",
      "(7040, 512)\n"
     ]
    }
   ],
   "source": [
    "import h5py\n",
    "import numpy as np\n",
    "\n",
    "with h5py.File(feature_pca_file, 'r') as h:\n",
    "    x_train = np.array(h['train'])\n",
    "    y_train = np.array(h['train_label'])\n",
    "    x_val = np.array(h['val'])\n",
    "    y_val = np.array(h['val_label'])\n",
    "    x_test = np.array(h['test'])\n",
    "\n",
    "print(x_train.shape)\n",
    "print(len(y_train))\n",
    "print(x_val.shape)\n",
    "print(len(y_val))\n",
    "print(x_test.shape)"
   ]
  },
  {
   "cell_type": "code",
   "execution_count": 4,
   "metadata": {},
   "outputs": [
    {
     "name": "stdout",
     "output_type": "stream",
     "text": [
      "(53879, 512)\n",
      "(53879,)\n"
     ]
    }
   ],
   "source": [
    "# x_train, y_train = shuffle(x_train, y_train)\n",
    "print(x_train.shape)\n",
    "print(y_train.shape)"
   ]
  },
  {
   "cell_type": "code",
   "execution_count": 5,
   "metadata": {},
   "outputs": [
    {
     "name": "stderr",
     "output_type": "stream",
     "text": [
      "Using TensorFlow backend.\n"
     ]
    },
    {
     "name": "stdout",
     "output_type": "stream",
     "text": [
      "(53879, 80)\n",
      "(7120, 80)\n"
     ]
    }
   ],
   "source": [
    "from keras.utils.np_utils import to_categorical\n",
    "\n",
    "y_train = to_categorical(y_train)\n",
    "y_val = to_categorical(y_val)\n",
    "print(y_train.shape)\n",
    "print(y_val.shape)"
   ]
  },
  {
   "cell_type": "code",
   "execution_count": 6,
   "metadata": {
    "collapsed": true
   },
   "outputs": [],
   "source": [
    "from keras.models import *\n",
    "from keras.layers import *\n",
    "from keras.optimizers import Adam\n",
    "\n",
    "model = Sequential()\n",
    "model.add(Dense(1024, input_shape=x_train.shape[1:]))\n",
    "model.add(Dropout(0.5))\n",
    "model.add(Dense(1024, activation='relu'))\n",
    "model.add(Dropout(0.5))\n",
    "model.add(Dense(1024, activation='relu'))\n",
    "model.add(Dropout(0.5))\n",
    "model.add(Dense(256, activation='relu'))\n",
    "model.add(Dropout(0.5))\n",
    "model.add(Dense(80, activation='softmax'))\n",
    "\n",
    "model.compile(optimizer=Adam(lr=1e-4),\n",
    "              loss='categorical_crossentropy',\n",
    "              metrics=['accuracy'])"
   ]
  },
  {
   "cell_type": "code",
   "execution_count": 7,
   "metadata": {},
   "outputs": [
    {
     "name": "stdout",
     "output_type": "stream",
     "text": [
      "log_dir:E:\\AIChallenger\\SceneClassification2017\\model\\SceneClassification_Train_NN_20171130_211657\n"
     ]
    }
   ],
   "source": [
    "from keras.callbacks import TensorBoard\n",
    "\n",
    "log_path = os.path.join(model_path, run_name)\n",
    "print('log_dir:' + log_path)\n",
    "\n",
    "from keras.callbacks import TensorBoard, LearningRateScheduler\n",
    "# annealer = LearningRateScheduler(lambda x: 1e-3 * 0.9 ** x) # Do not why, when add annealer, the net will be divergency\n",
    "tensorBoard = TensorBoard(log_dir=log_path)"
   ]
  },
  {
   "cell_type": "code",
   "execution_count": 8,
   "metadata": {},
   "outputs": [
    {
     "name": "stdout",
     "output_type": "stream",
     "text": [
      "Train on 53879 samples, validate on 7120 samples\n",
      "Epoch 1/200\n",
      "53879/53879 [==============================] - 2s 44us/step - loss: 4.6054 - acc: 0.0206 - val_loss: 4.2796 - val_acc: 0.1935\n",
      "Epoch 2/200\n",
      "53879/53879 [==============================] - 2s 33us/step - loss: 4.2547 - acc: 0.0454 - val_loss: 4.0071 - val_acc: 0.3070\n",
      "Epoch 3/200\n",
      "53879/53879 [==============================] - 2s 33us/step - loss: 3.9628 - acc: 0.1013 - val_loss: 3.3259 - val_acc: 0.3930\n",
      "Epoch 4/200\n",
      "53879/53879 [==============================] - 2s 39us/step - loss: 3.4761 - acc: 0.1909 - val_loss: 2.5453 - val_acc: 0.4840\n",
      "Epoch 5/200\n",
      "53879/53879 [==============================] - 2s 29us/step - loss: 3.0020 - acc: 0.2774 - val_loss: 2.0645 - val_acc: 0.5393\n",
      "Epoch 6/200\n",
      "53879/53879 [==============================] - 2s 34us/step - loss: 2.6635 - acc: 0.3442 - val_loss: 1.7838 - val_acc: 0.5809\n",
      "Epoch 7/200\n",
      "53879/53879 [==============================] - 2s 43us/step - loss: 2.4349 - acc: 0.3898 - val_loss: 1.6083 - val_acc: 0.6097\n",
      "Epoch 8/200\n",
      "53879/53879 [==============================] - 2s 44us/step - loss: 2.2611 - acc: 0.4255 - val_loss: 1.4912 - val_acc: 0.6299\n",
      "Epoch 9/200\n",
      "53879/53879 [==============================] - 2s 34us/step - loss: 2.1376 - acc: 0.4502 - val_loss: 1.3988 - val_acc: 0.6459\n",
      "Epoch 10/200\n",
      "53879/53879 [==============================] - 1s 21us/step - loss: 2.0385 - acc: 0.4740 - val_loss: 1.3275 - val_acc: 0.6597\n",
      "Epoch 11/200\n",
      "53879/53879 [==============================] - 2s 28us/step - loss: 1.9561 - acc: 0.4924 - val_loss: 1.2724 - val_acc: 0.6663\n",
      "Epoch 12/200\n",
      "53879/53879 [==============================] - 1s 27us/step - loss: 1.8875 - acc: 0.5065 - val_loss: 1.2284 - val_acc: 0.6772\n",
      "Epoch 13/200\n",
      "53879/53879 [==============================] - 7s 125us/step - loss: 1.8275 - acc: 0.5233 - val_loss: 1.1928 - val_acc: 0.6831\n",
      "Epoch 14/200\n",
      "53879/53879 [==============================] - 2s 36us/step - loss: 1.7768 - acc: 0.5321 - val_loss: 1.1570 - val_acc: 0.6937\n",
      "Epoch 15/200\n",
      "53879/53879 [==============================] - 1s 18us/step - loss: 1.7287 - acc: 0.5446 - val_loss: 1.1276 - val_acc: 0.6985\n",
      "Epoch 16/200\n",
      "53879/53879 [==============================] - 1s 19us/step - loss: 1.7016 - acc: 0.5534 - val_loss: 1.1047 - val_acc: 0.7031\n",
      "Epoch 17/200\n",
      "53879/53879 [==============================] - 1s 20us/step - loss: 1.6570 - acc: 0.5634 - val_loss: 1.0851 - val_acc: 0.7086\n",
      "Epoch 18/200\n",
      "53879/53879 [==============================] - 1s 25us/step - loss: 1.6132 - acc: 0.5738 - val_loss: 1.0629 - val_acc: 0.7140\n",
      "Epoch 19/200\n",
      "53879/53879 [==============================] - 2s 35us/step - loss: 1.5878 - acc: 0.5796 - val_loss: 1.0479 - val_acc: 0.7164\n",
      "Epoch 20/200\n",
      "53879/53879 [==============================] - 1s 27us/step - loss: 1.5639 - acc: 0.5842 - val_loss: 1.0311 - val_acc: 0.7188\n",
      "Epoch 21/200\n",
      "53879/53879 [==============================] - 2s 37us/step - loss: 1.5357 - acc: 0.5941 - val_loss: 1.0158 - val_acc: 0.7226\n",
      "Epoch 22/200\n",
      "53879/53879 [==============================] - 2s 44us/step - loss: 1.5211 - acc: 0.5969 - val_loss: 1.0041 - val_acc: 0.7260\n",
      "Epoch 23/200\n",
      "53879/53879 [==============================] - 1s 27us/step - loss: 1.4926 - acc: 0.6023 - val_loss: 0.9941 - val_acc: 0.7274\n",
      "Epoch 24/200\n",
      "53879/53879 [==============================] - 2s 38us/step - loss: 1.4762 - acc: 0.6094 - val_loss: 0.9833 - val_acc: 0.7301\n",
      "Epoch 25/200\n",
      "53879/53879 [==============================] - 2s 43us/step - loss: 1.4490 - acc: 0.6150 - val_loss: 0.9715 - val_acc: 0.7334\n",
      "Epoch 26/200\n",
      "53879/53879 [==============================] - 3s 57us/step - loss: 1.4373 - acc: 0.6202 - val_loss: 0.9610 - val_acc: 0.7355\n",
      "Epoch 27/200\n",
      "53879/53879 [==============================] - 2s 29us/step - loss: 1.4225 - acc: 0.6209 - val_loss: 0.9547 - val_acc: 0.7383\n",
      "Epoch 28/200\n",
      "53879/53879 [==============================] - 4s 69us/step - loss: 1.4058 - acc: 0.6270 - val_loss: 0.9442 - val_acc: 0.7407\n",
      "Epoch 29/200\n",
      "53879/53879 [==============================] - 2s 42us/step - loss: 1.3902 - acc: 0.6290 - val_loss: 0.9399 - val_acc: 0.7417\n",
      "Epoch 30/200\n",
      "53879/53879 [==============================] - 4s 66us/step - loss: 1.3753 - acc: 0.6339 - val_loss: 0.9312 - val_acc: 0.7430\n",
      "Epoch 31/200\n",
      "53879/53879 [==============================] - 4s 82us/step - loss: 1.3574 - acc: 0.6367 - val_loss: 0.9264 - val_acc: 0.7431\n",
      "Epoch 32/200\n",
      "53879/53879 [==============================] - 2s 44us/step - loss: 1.3478 - acc: 0.6385 - val_loss: 0.9203 - val_acc: 0.7447\n",
      "Epoch 33/200\n",
      "53879/53879 [==============================] - 2s 39us/step - loss: 1.3370 - acc: 0.6433 - val_loss: 0.9145 - val_acc: 0.7469\n",
      "Epoch 34/200\n",
      "53879/53879 [==============================] - 3s 53us/step - loss: 1.3259 - acc: 0.6437 - val_loss: 0.9082 - val_acc: 0.7468\n",
      "Epoch 35/200\n",
      "53879/53879 [==============================] - 3s 48us/step - loss: 1.3161 - acc: 0.6467 - val_loss: 0.9049 - val_acc: 0.7473\n",
      "Epoch 36/200\n",
      "53879/53879 [==============================] - 3s 62us/step - loss: 1.2900 - acc: 0.6526 - val_loss: 0.8989 - val_acc: 0.7504\n",
      "Epoch 37/200\n",
      "53879/53879 [==============================] - 2s 38us/step - loss: 1.2932 - acc: 0.6524 - val_loss: 0.8947 - val_acc: 0.7506\n",
      "Epoch 38/200\n",
      "53879/53879 [==============================] - 2s 43us/step - loss: 1.2782 - acc: 0.6582 - val_loss: 0.8877 - val_acc: 0.7534\n",
      "Epoch 39/200\n",
      "53879/53879 [==============================] - 3s 62us/step - loss: 1.2643 - acc: 0.6599 - val_loss: 0.8850 - val_acc: 0.7537\n",
      "Epoch 40/200\n",
      "53879/53879 [==============================] - 1s 20us/step - loss: 1.2552 - acc: 0.6602 - val_loss: 0.8806 - val_acc: 0.7538\n",
      "Epoch 41/200\n",
      "53879/53879 [==============================] - 2s 28us/step - loss: 1.2423 - acc: 0.6638 - val_loss: 0.8769 - val_acc: 0.7544\n",
      "Epoch 42/200\n",
      "53879/53879 [==============================] - 2s 34us/step - loss: 1.2341 - acc: 0.6680 - val_loss: 0.8731 - val_acc: 0.7559\n",
      "Epoch 43/200\n",
      "53879/53879 [==============================] - 2s 44us/step - loss: 1.2306 - acc: 0.6687 - val_loss: 0.8694 - val_acc: 0.7572\n",
      "Epoch 44/200\n",
      "53879/53879 [==============================] - 2s 39us/step - loss: 1.2204 - acc: 0.6700 - val_loss: 0.8652 - val_acc: 0.7560\n",
      "Epoch 45/200\n",
      "53879/53879 [==============================] - 1s 21us/step - loss: 1.2168 - acc: 0.6694 - val_loss: 0.8638 - val_acc: 0.7567\n",
      "Epoch 46/200\n",
      "53879/53879 [==============================] - 2s 40us/step - loss: 1.2034 - acc: 0.6756 - val_loss: 0.8599 - val_acc: 0.7558\n",
      "Epoch 47/200\n",
      "53879/53879 [==============================] - 2s 41us/step - loss: 1.1984 - acc: 0.6735 - val_loss: 0.8584 - val_acc: 0.7584\n",
      "Epoch 48/200\n",
      "53879/53879 [==============================] - 2s 34us/step - loss: 1.1880 - acc: 0.6785 - val_loss: 0.8549 - val_acc: 0.7607\n",
      "Epoch 49/200\n",
      "53879/53879 [==============================] - 3s 58us/step - loss: 1.1751 - acc: 0.6815 - val_loss: 0.8535 - val_acc: 0.7593\n",
      "Epoch 50/200\n",
      "53879/53879 [==============================] - 2s 45us/step - loss: 1.1763 - acc: 0.6803 - val_loss: 0.8500 - val_acc: 0.7601\n",
      "Epoch 51/200\n",
      "53879/53879 [==============================] - 2s 35us/step - loss: 1.1747 - acc: 0.6832 - val_loss: 0.8477 - val_acc: 0.7617\n",
      "Epoch 52/200\n",
      "53879/53879 [==============================] - 2s 43us/step - loss: 1.1649 - acc: 0.6820 - val_loss: 0.8453 - val_acc: 0.7612\n",
      "Epoch 53/200\n",
      "53879/53879 [==============================] - 2s 39us/step - loss: 1.1517 - acc: 0.6861 - val_loss: 0.8413 - val_acc: 0.7617\n",
      "Epoch 54/200\n",
      "53879/53879 [==============================] - 2s 29us/step - loss: 1.1466 - acc: 0.6872 - val_loss: 0.8393 - val_acc: 0.7640\n",
      "Epoch 55/200\n",
      "53879/53879 [==============================] - 2s 37us/step - loss: 1.1395 - acc: 0.6874 - val_loss: 0.8373 - val_acc: 0.7639\n",
      "Epoch 56/200\n",
      "53879/53879 [==============================] - 3s 53us/step - loss: 1.1378 - acc: 0.6904 - val_loss: 0.8358 - val_acc: 0.7649\n",
      "Epoch 57/200\n",
      "53879/53879 [==============================] - 4s 70us/step - loss: 1.1300 - acc: 0.6913 - val_loss: 0.8340 - val_acc: 0.7656\n",
      "Epoch 58/200\n",
      "53879/53879 [==============================] - 3s 50us/step - loss: 1.1249 - acc: 0.6940 - val_loss: 0.8315 - val_acc: 0.7643\n",
      "Epoch 59/200\n"
     ]
    },
    {
     "name": "stdout",
     "output_type": "stream",
     "text": [
      "53879/53879 [==============================] - 2s 37us/step - loss: 1.1224 - acc: 0.6924 - val_loss: 0.8307 - val_acc: 0.7647\n",
      "Epoch 60/200\n",
      "53879/53879 [==============================] - 2s 34us/step - loss: 1.1070 - acc: 0.6978 - val_loss: 0.8313 - val_acc: 0.7657\n",
      "Epoch 61/200\n",
      "53879/53879 [==============================] - 2s 33us/step - loss: 1.1112 - acc: 0.6964 - val_loss: 0.8289 - val_acc: 0.7643\n",
      "Epoch 62/200\n",
      "53879/53879 [==============================] - 2s 31us/step - loss: 1.0999 - acc: 0.6999 - val_loss: 0.8276 - val_acc: 0.7653\n",
      "Epoch 63/200\n",
      "53879/53879 [==============================] - 2s 36us/step - loss: 1.0961 - acc: 0.7025 - val_loss: 0.8268 - val_acc: 0.7666\n",
      "Epoch 64/200\n",
      "53879/53879 [==============================] - 1s 27us/step - loss: 1.0902 - acc: 0.7019 - val_loss: 0.8220 - val_acc: 0.7667\n",
      "Epoch 65/200\n",
      "53879/53879 [==============================] - 1s 26us/step - loss: 1.0889 - acc: 0.7025 - val_loss: 0.8215 - val_acc: 0.7691\n",
      "Epoch 66/200\n",
      "53879/53879 [==============================] - 1s 27us/step - loss: 1.0766 - acc: 0.7055 - val_loss: 0.8213 - val_acc: 0.7677\n",
      "Epoch 67/200\n",
      "53879/53879 [==============================] - 2s 41us/step - loss: 1.0752 - acc: 0.7051 - val_loss: 0.8201 - val_acc: 0.7684\n",
      "Epoch 68/200\n",
      "53879/53879 [==============================] - 2s 43us/step - loss: 1.0737 - acc: 0.7056 - val_loss: 0.8202 - val_acc: 0.7685\n",
      "Epoch 69/200\n",
      "53879/53879 [==============================] - 2s 34us/step - loss: 1.0571 - acc: 0.7084 - val_loss: 0.8189 - val_acc: 0.7684\n",
      "Epoch 70/200\n",
      "53879/53879 [==============================] - 3s 50us/step - loss: 1.0599 - acc: 0.7071 - val_loss: 0.8156 - val_acc: 0.7694\n",
      "Epoch 71/200\n",
      "53879/53879 [==============================] - 3s 48us/step - loss: 1.0516 - acc: 0.7112 - val_loss: 0.8168 - val_acc: 0.7694\n",
      "Epoch 72/200\n",
      "53879/53879 [==============================] - 2s 42us/step - loss: 1.0569 - acc: 0.7084 - val_loss: 0.8142 - val_acc: 0.7712\n",
      "Epoch 73/200\n",
      "53879/53879 [==============================] - 2s 31us/step - loss: 1.0509 - acc: 0.7130 - val_loss: 0.8130 - val_acc: 0.7721\n",
      "Epoch 74/200\n",
      "53879/53879 [==============================] - 2s 41us/step - loss: 1.0352 - acc: 0.7120 - val_loss: 0.8130 - val_acc: 0.7695\n",
      "Epoch 75/200\n",
      "53879/53879 [==============================] - 3s 59us/step - loss: 1.0372 - acc: 0.7121 - val_loss: 0.8125 - val_acc: 0.7705\n",
      "Epoch 76/200\n",
      "53879/53879 [==============================] - 4s 71us/step - loss: 1.0315 - acc: 0.7161 - val_loss: 0.8114 - val_acc: 0.7708\n",
      "Epoch 77/200\n",
      "53879/53879 [==============================] - 2s 34us/step - loss: 1.0222 - acc: 0.7184 - val_loss: 0.8111 - val_acc: 0.7708\n",
      "Epoch 78/200\n",
      "53879/53879 [==============================] - 2s 30us/step - loss: 1.0205 - acc: 0.7164 - val_loss: 0.8101 - val_acc: 0.7721\n",
      "Epoch 79/200\n",
      "53879/53879 [==============================] - 1s 27us/step - loss: 1.0180 - acc: 0.7184 - val_loss: 0.8081 - val_acc: 0.7730\n",
      "Epoch 80/200\n",
      "53879/53879 [==============================] - 2s 29us/step - loss: 1.0148 - acc: 0.7206 - val_loss: 0.8079 - val_acc: 0.7718\n",
      "Epoch 81/200\n",
      "53879/53879 [==============================] - 4s 70us/step - loss: 1.0143 - acc: 0.7197 - val_loss: 0.8091 - val_acc: 0.7713\n",
      "Epoch 82/200\n",
      "53879/53879 [==============================] - 3s 58us/step - loss: 1.0080 - acc: 0.7200 - val_loss: 0.8091 - val_acc: 0.7705\n",
      "Epoch 83/200\n",
      "53879/53879 [==============================] - 4s 69us/step - loss: 1.0008 - acc: 0.7223 - val_loss: 0.8063 - val_acc: 0.7719\n",
      "Epoch 84/200\n",
      "53879/53879 [==============================] - 4s 70us/step - loss: 0.9949 - acc: 0.7222 - val_loss: 0.8065 - val_acc: 0.7692\n",
      "Epoch 85/200\n",
      "53879/53879 [==============================] - 3s 58us/step - loss: 0.9966 - acc: 0.7214 - val_loss: 0.8069 - val_acc: 0.7705\n",
      "Epoch 86/200\n",
      "53879/53879 [==============================] - 3s 55us/step - loss: 0.9826 - acc: 0.7247 - val_loss: 0.8069 - val_acc: 0.7706\n",
      "Epoch 87/200\n",
      "53879/53879 [==============================] - 6s 107us/step - loss: 0.9834 - acc: 0.7273 - val_loss: 0.8056 - val_acc: 0.7699\n",
      "Epoch 88/200\n",
      "53879/53879 [==============================] - 4s 72us/step - loss: 0.9847 - acc: 0.7258 - val_loss: 0.8038 - val_acc: 0.7715\n",
      "Epoch 89/200\n",
      "53879/53879 [==============================] - 2s 32us/step - loss: 0.9802 - acc: 0.7270 - val_loss: 0.8033 - val_acc: 0.7708\n",
      "Epoch 90/200\n",
      "53879/53879 [==============================] - 2s 46us/step - loss: 0.9745 - acc: 0.7286 - val_loss: 0.8029 - val_acc: 0.7705\n",
      "Epoch 91/200\n",
      "53879/53879 [==============================] - 4s 68us/step - loss: 0.9754 - acc: 0.7290 - val_loss: 0.8034 - val_acc: 0.7719\n",
      "Epoch 92/200\n",
      "53879/53879 [==============================] - 4s 67us/step - loss: 0.9655 - acc: 0.7311 - val_loss: 0.8006 - val_acc: 0.7718\n",
      "Epoch 93/200\n",
      "53879/53879 [==============================] - 4s 66us/step - loss: 0.9621 - acc: 0.7298 - val_loss: 0.8014 - val_acc: 0.7713\n",
      "Epoch 94/200\n",
      "53879/53879 [==============================] - 3s 59us/step - loss: 0.9588 - acc: 0.7332 - val_loss: 0.8029 - val_acc: 0.7719\n",
      "Epoch 95/200\n",
      "53879/53879 [==============================] - 3s 60us/step - loss: 0.9580 - acc: 0.7313 - val_loss: 0.8015 - val_acc: 0.7725\n",
      "Epoch 96/200\n",
      "53879/53879 [==============================] - 4s 82us/step - loss: 0.9555 - acc: 0.7345 - val_loss: 0.8013 - val_acc: 0.7719\n",
      "Epoch 97/200\n",
      "53879/53879 [==============================] - 3s 49us/step - loss: 0.9496 - acc: 0.7347 - val_loss: 0.8006 - val_acc: 0.7712\n",
      "Epoch 98/200\n",
      "53879/53879 [==============================] - 3s 58us/step - loss: 0.9454 - acc: 0.7344 - val_loss: 0.8004 - val_acc: 0.7730\n",
      "Epoch 99/200\n",
      "53879/53879 [==============================] - 2s 41us/step - loss: 0.9435 - acc: 0.7345 - val_loss: 0.8015 - val_acc: 0.7737\n",
      "Epoch 100/200\n",
      "53879/53879 [==============================] - 3s 51us/step - loss: 0.9398 - acc: 0.7370 - val_loss: 0.8019 - val_acc: 0.7732\n",
      "Epoch 101/200\n",
      "53879/53879 [==============================] - 3s 60us/step - loss: 0.9404 - acc: 0.7364 - val_loss: 0.8012 - val_acc: 0.7729\n",
      "Epoch 102/200\n",
      "53879/53879 [==============================] - 3s 49us/step - loss: 0.9295 - acc: 0.7378 - val_loss: 0.8009 - val_acc: 0.7726\n",
      "Epoch 103/200\n",
      "53879/53879 [==============================] - 4s 79us/step - loss: 0.9295 - acc: 0.7401 - val_loss: 0.7998 - val_acc: 0.7732\n",
      "Epoch 104/200\n",
      "53879/53879 [==============================] - 2s 41us/step - loss: 0.9315 - acc: 0.7386 - val_loss: 0.8014 - val_acc: 0.7730\n",
      "Epoch 105/200\n",
      "53879/53879 [==============================] - 2s 43us/step - loss: 0.9261 - acc: 0.7410 - val_loss: 0.8007 - val_acc: 0.7726\n",
      "Epoch 106/200\n",
      "53879/53879 [==============================] - 2s 45us/step - loss: 0.9164 - acc: 0.7435 - val_loss: 0.7992 - val_acc: 0.7747\n",
      "Epoch 107/200\n",
      "53879/53879 [==============================] - 3s 48us/step - loss: 0.9152 - acc: 0.7419 - val_loss: 0.7998 - val_acc: 0.7732\n",
      "Epoch 108/200\n",
      "53879/53879 [==============================] - 3s 52us/step - loss: 0.9055 - acc: 0.7417 - val_loss: 0.7985 - val_acc: 0.7744\n",
      "Epoch 109/200\n",
      "53879/53879 [==============================] - 3s 61us/step - loss: 0.9091 - acc: 0.7436 - val_loss: 0.7994 - val_acc: 0.7732\n",
      "Epoch 110/200\n",
      "53879/53879 [==============================] - 3s 51us/step - loss: 0.9059 - acc: 0.7431 - val_loss: 0.7988 - val_acc: 0.7743\n",
      "Epoch 111/200\n",
      "53879/53879 [==============================] - 3s 61us/step - loss: 0.9027 - acc: 0.7437 - val_loss: 0.7988 - val_acc: 0.7746\n",
      "Epoch 112/200\n",
      "53879/53879 [==============================] - 3s 62us/step - loss: 0.9008 - acc: 0.7469 - val_loss: 0.7989 - val_acc: 0.7726\n",
      "Epoch 113/200\n",
      "53879/53879 [==============================] - 3s 60us/step - loss: 0.9019 - acc: 0.7450 - val_loss: 0.7979 - val_acc: 0.7736\n",
      "Epoch 114/200\n",
      "53879/53879 [==============================] - 3s 53us/step - loss: 0.8918 - acc: 0.7500 - val_loss: 0.7990 - val_acc: 0.7757\n",
      "Epoch 115/200\n",
      "53879/53879 [==============================] - 3s 47us/step - loss: 0.8953 - acc: 0.7479 - val_loss: 0.7989 - val_acc: 0.7744\n",
      "Epoch 116/200\n",
      "53879/53879 [==============================] - 3s 53us/step - loss: 0.8883 - acc: 0.7479 - val_loss: 0.7975 - val_acc: 0.7742\n",
      "Epoch 117/200\n",
      "53879/53879 [==============================] - 4s 68us/step - loss: 0.8912 - acc: 0.7461 - val_loss: 0.8000 - val_acc: 0.7740\n"
     ]
    },
    {
     "name": "stdout",
     "output_type": "stream",
     "text": [
      "Epoch 118/200\n",
      "53879/53879 [==============================] - 2s 41us/step - loss: 0.8878 - acc: 0.7483 - val_loss: 0.7985 - val_acc: 0.7736\n",
      "Epoch 119/200\n",
      "53879/53879 [==============================] - 3s 53us/step - loss: 0.8818 - acc: 0.7501 - val_loss: 0.7971 - val_acc: 0.7735\n",
      "Epoch 120/200\n",
      "53879/53879 [==============================] - 2s 32us/step - loss: 0.8793 - acc: 0.7506 - val_loss: 0.7988 - val_acc: 0.7719\n",
      "Epoch 121/200\n",
      "53879/53879 [==============================] - 2s 32us/step - loss: 0.8763 - acc: 0.7514 - val_loss: 0.7989 - val_acc: 0.7749\n",
      "Epoch 122/200\n",
      "53879/53879 [==============================] - 3s 61us/step - loss: 0.8764 - acc: 0.7509 - val_loss: 0.7992 - val_acc: 0.7732\n",
      "Epoch 123/200\n",
      "53879/53879 [==============================] - 3s 58us/step - loss: 0.8662 - acc: 0.7533 - val_loss: 0.7990 - val_acc: 0.7742\n",
      "Epoch 124/200\n",
      "53879/53879 [==============================] - 3s 51us/step - loss: 0.8649 - acc: 0.7549 - val_loss: 0.7986 - val_acc: 0.7743\n",
      "Epoch 125/200\n",
      "53879/53879 [==============================] - 3s 57us/step - loss: 0.8608 - acc: 0.7544 - val_loss: 0.7985 - val_acc: 0.7743\n",
      "Epoch 126/200\n",
      "53879/53879 [==============================] - 3s 61us/step - loss: 0.8626 - acc: 0.7532 - val_loss: 0.7991 - val_acc: 0.7746\n",
      "Epoch 127/200\n",
      "53879/53879 [==============================] - 3s 62us/step - loss: 0.8569 - acc: 0.7554 - val_loss: 0.7964 - val_acc: 0.7719\n",
      "Epoch 128/200\n",
      "53879/53879 [==============================] - 3s 47us/step - loss: 0.8578 - acc: 0.7561 - val_loss: 0.7986 - val_acc: 0.7747\n",
      "Epoch 129/200\n",
      "53879/53879 [==============================] - 2s 46us/step - loss: 0.8535 - acc: 0.7573 - val_loss: 0.7985 - val_acc: 0.7735\n",
      "Epoch 130/200\n",
      "53879/53879 [==============================] - 2s 46us/step - loss: 0.8569 - acc: 0.7555 - val_loss: 0.7975 - val_acc: 0.7733\n",
      "Epoch 131/200\n",
      "53879/53879 [==============================] - 2s 37us/step - loss: 0.8514 - acc: 0.7568 - val_loss: 0.7973 - val_acc: 0.7740\n",
      "Epoch 132/200\n",
      "53879/53879 [==============================] - 2s 44us/step - loss: 0.8440 - acc: 0.7587 - val_loss: 0.7984 - val_acc: 0.7735\n",
      "Epoch 133/200\n",
      "53879/53879 [==============================] - 1s 22us/step - loss: 0.8452 - acc: 0.7589 - val_loss: 0.7968 - val_acc: 0.7742\n",
      "Epoch 134/200\n",
      "53879/53879 [==============================] - 2s 39us/step - loss: 0.8402 - acc: 0.7592 - val_loss: 0.7984 - val_acc: 0.7732\n",
      "Epoch 135/200\n",
      "53879/53879 [==============================] - 2s 40us/step - loss: 0.8355 - acc: 0.7599 - val_loss: 0.7994 - val_acc: 0.7749\n",
      "Epoch 136/200\n",
      "53879/53879 [==============================] - 1s 19us/step - loss: 0.8344 - acc: 0.7612 - val_loss: 0.7998 - val_acc: 0.7758\n",
      "Epoch 137/200\n",
      "53879/53879 [==============================] - 1s 23us/step - loss: 0.8323 - acc: 0.7627 - val_loss: 0.7993 - val_acc: 0.7756\n",
      "Epoch 138/200\n",
      "53879/53879 [==============================] - 1s 21us/step - loss: 0.8296 - acc: 0.7618 - val_loss: 0.7979 - val_acc: 0.7751\n",
      "Epoch 139/200\n",
      "53879/53879 [==============================] - 1s 25us/step - loss: 0.8273 - acc: 0.7625 - val_loss: 0.7992 - val_acc: 0.7737\n",
      "Epoch 140/200\n",
      "53879/53879 [==============================] - 1s 20us/step - loss: 0.8236 - acc: 0.7647 - val_loss: 0.7991 - val_acc: 0.7744\n",
      "Epoch 141/200\n",
      "53879/53879 [==============================] - 1s 20us/step - loss: 0.8191 - acc: 0.7634 - val_loss: 0.7976 - val_acc: 0.7749\n",
      "Epoch 142/200\n",
      "53879/53879 [==============================] - 1s 21us/step - loss: 0.8217 - acc: 0.7647 - val_loss: 0.7981 - val_acc: 0.7729\n",
      "Epoch 143/200\n",
      "53879/53879 [==============================] - 1s 21us/step - loss: 0.8194 - acc: 0.7663 - val_loss: 0.7984 - val_acc: 0.7737\n",
      "Epoch 144/200\n",
      "53879/53879 [==============================] - 1s 23us/step - loss: 0.8166 - acc: 0.7650 - val_loss: 0.7990 - val_acc: 0.7736\n",
      "Epoch 145/200\n",
      "53879/53879 [==============================] - 1s 19us/step - loss: 0.8155 - acc: 0.7635 - val_loss: 0.8021 - val_acc: 0.7736\n",
      "Epoch 146/200\n",
      "53879/53879 [==============================] - 1s 17us/step - loss: 0.8056 - acc: 0.7679 - val_loss: 0.7995 - val_acc: 0.7750\n",
      "Epoch 147/200\n",
      "53879/53879 [==============================] - 1s 19us/step - loss: 0.8048 - acc: 0.7684 - val_loss: 0.7988 - val_acc: 0.7756\n",
      "Epoch 148/200\n",
      "53879/53879 [==============================] - 1s 19us/step - loss: 0.8108 - acc: 0.7654 - val_loss: 0.7991 - val_acc: 0.7732\n",
      "Epoch 149/200\n",
      "53879/53879 [==============================] - 1s 19us/step - loss: 0.7972 - acc: 0.7700 - val_loss: 0.8001 - val_acc: 0.7770\n",
      "Epoch 150/200\n",
      "53879/53879 [==============================] - 1s 20us/step - loss: 0.8045 - acc: 0.7670 - val_loss: 0.8003 - val_acc: 0.7763\n",
      "Epoch 151/200\n",
      "53879/53879 [==============================] - 1s 16us/step - loss: 0.7962 - acc: 0.7699 - val_loss: 0.8005 - val_acc: 0.7753\n",
      "Epoch 152/200\n",
      "53879/53879 [==============================] - 1s 22us/step - loss: 0.7963 - acc: 0.7712 - val_loss: 0.7993 - val_acc: 0.7744\n",
      "Epoch 153/200\n",
      "53879/53879 [==============================] - 2s 30us/step - loss: 0.7944 - acc: 0.7698 - val_loss: 0.8012 - val_acc: 0.7758\n",
      "Epoch 154/200\n",
      "53879/53879 [==============================] - 1s 20us/step - loss: 0.7892 - acc: 0.7711 - val_loss: 0.8006 - val_acc: 0.7764\n",
      "Epoch 155/200\n",
      "53879/53879 [==============================] - 1s 26us/step - loss: 0.7883 - acc: 0.7714 - val_loss: 0.8013 - val_acc: 0.7754\n",
      "Epoch 156/200\n",
      "53879/53879 [==============================] - 1s 25us/step - loss: 0.7870 - acc: 0.7746 - val_loss: 0.8016 - val_acc: 0.7751\n",
      "Epoch 157/200\n",
      "53879/53879 [==============================] - 1s 20us/step - loss: 0.7820 - acc: 0.7745 - val_loss: 0.8018 - val_acc: 0.7737\n",
      "Epoch 158/200\n",
      "53879/53879 [==============================] - 1s 26us/step - loss: 0.7847 - acc: 0.7735 - val_loss: 0.8027 - val_acc: 0.7753\n",
      "Epoch 159/200\n",
      "53879/53879 [==============================] - 2s 38us/step - loss: 0.7801 - acc: 0.7720 - val_loss: 0.8010 - val_acc: 0.7753\n",
      "Epoch 160/200\n",
      "53879/53879 [==============================] - 2s 45us/step - loss: 0.7793 - acc: 0.7751 - val_loss: 0.8033 - val_acc: 0.7761\n",
      "Epoch 161/200\n",
      "53879/53879 [==============================] - 1s 27us/step - loss: 0.7753 - acc: 0.7749 - val_loss: 0.8014 - val_acc: 0.7758\n",
      "Epoch 162/200\n",
      "53879/53879 [==============================] - 1s 25us/step - loss: 0.7727 - acc: 0.7740 - val_loss: 0.8000 - val_acc: 0.7750\n",
      "Epoch 163/200\n",
      "53879/53879 [==============================] - 1s 27us/step - loss: 0.7754 - acc: 0.7755 - val_loss: 0.7993 - val_acc: 0.7757\n",
      "Epoch 164/200\n",
      "53879/53879 [==============================] - 1s 19us/step - loss: 0.7667 - acc: 0.7778 - val_loss: 0.8010 - val_acc: 0.7753\n",
      "Epoch 165/200\n",
      "53879/53879 [==============================] - 3s 50us/step - loss: 0.7618 - acc: 0.7778 - val_loss: 0.8031 - val_acc: 0.7756\n",
      "Epoch 166/200\n",
      "53879/53879 [==============================] - 2s 34us/step - loss: 0.7656 - acc: 0.7781 - val_loss: 0.8036 - val_acc: 0.7730\n",
      "Epoch 167/200\n",
      "53879/53879 [==============================] - 2s 42us/step - loss: 0.7631 - acc: 0.7782 - val_loss: 0.8035 - val_acc: 0.7749\n",
      "Epoch 168/200\n",
      "53879/53879 [==============================] - 2s 32us/step - loss: 0.7586 - acc: 0.7783 - val_loss: 0.8013 - val_acc: 0.7750\n",
      "Epoch 169/200\n",
      "53879/53879 [==============================] - 6s 111us/step - loss: 0.7502 - acc: 0.7806 - val_loss: 0.8030 - val_acc: 0.7744\n",
      "Epoch 170/200\n",
      "53879/53879 [==============================] - 2s 44us/step - loss: 0.7564 - acc: 0.7794 - val_loss: 0.8047 - val_acc: 0.7753\n",
      "Epoch 171/200\n",
      "53879/53879 [==============================] - 1s 17us/step - loss: 0.7589 - acc: 0.7786 - val_loss: 0.8035 - val_acc: 0.7756\n",
      "Epoch 172/200\n",
      "53879/53879 [==============================] - 1s 20us/step - loss: 0.7500 - acc: 0.7816 - val_loss: 0.8033 - val_acc: 0.7754\n",
      "Epoch 173/200\n",
      "53879/53879 [==============================] - 1s 21us/step - loss: 0.7512 - acc: 0.7814 - val_loss: 0.8051 - val_acc: 0.7764\n",
      "Epoch 174/200\n",
      "53879/53879 [==============================] - 1s 24us/step - loss: 0.7463 - acc: 0.7819 - val_loss: 0.8044 - val_acc: 0.7742\n",
      "Epoch 175/200\n",
      "53879/53879 [==============================] - 1s 26us/step - loss: 0.7413 - acc: 0.7839 - val_loss: 0.8054 - val_acc: 0.7754\n",
      "Epoch 176/200\n"
     ]
    },
    {
     "name": "stdout",
     "output_type": "stream",
     "text": [
      "53879/53879 [==============================] - 4s 82us/step - loss: 0.7432 - acc: 0.7808 - val_loss: 0.8042 - val_acc: 0.7757\n",
      "Epoch 177/200\n",
      "53879/53879 [==============================] - 4s 68us/step - loss: 0.7417 - acc: 0.7835 - val_loss: 0.8044 - val_acc: 0.7739\n",
      "Epoch 178/200\n",
      "53879/53879 [==============================] - 2s 35us/step - loss: 0.7387 - acc: 0.7828 - val_loss: 0.8059 - val_acc: 0.7756\n",
      "Epoch 179/200\n",
      "53879/53879 [==============================] - 2s 39us/step - loss: 0.7336 - acc: 0.7856 - val_loss: 0.8066 - val_acc: 0.7763\n",
      "Epoch 180/200\n",
      "53879/53879 [==============================] - 2s 36us/step - loss: 0.7313 - acc: 0.7856 - val_loss: 0.8074 - val_acc: 0.7733\n",
      "Epoch 181/200\n",
      "53879/53879 [==============================] - 6s 105us/step - loss: 0.7367 - acc: 0.7850 - val_loss: 0.8045 - val_acc: 0.7758\n",
      "Epoch 182/200\n",
      "53879/53879 [==============================] - 2s 34us/step - loss: 0.7304 - acc: 0.7856 - val_loss: 0.8050 - val_acc: 0.7747\n",
      "Epoch 183/200\n",
      "53879/53879 [==============================] - 3s 50us/step - loss: 0.7297 - acc: 0.7858 - val_loss: 0.8049 - val_acc: 0.7763\n",
      "Epoch 184/200\n",
      "53879/53879 [==============================] - 1s 22us/step - loss: 0.7293 - acc: 0.7853 - val_loss: 0.8044 - val_acc: 0.7757\n",
      "Epoch 185/200\n",
      "53879/53879 [==============================] - 1s 19us/step - loss: 0.7282 - acc: 0.7865 - val_loss: 0.8052 - val_acc: 0.7747\n",
      "Epoch 186/200\n",
      "53879/53879 [==============================] - 1s 21us/step - loss: 0.7252 - acc: 0.7880 - val_loss: 0.8050 - val_acc: 0.7767\n",
      "Epoch 187/200\n",
      "53879/53879 [==============================] - 1s 21us/step - loss: 0.7159 - acc: 0.7887 - val_loss: 0.8065 - val_acc: 0.7757\n",
      "Epoch 188/200\n",
      "53879/53879 [==============================] - 1s 23us/step - loss: 0.7239 - acc: 0.7880 - val_loss: 0.8071 - val_acc: 0.7747\n",
      "Epoch 189/200\n",
      "53879/53879 [==============================] - 1s 18us/step - loss: 0.7168 - acc: 0.7916 - val_loss: 0.8093 - val_acc: 0.7757\n",
      "Epoch 190/200\n",
      "53879/53879 [==============================] - 1s 18us/step - loss: 0.7144 - acc: 0.7890 - val_loss: 0.8089 - val_acc: 0.7756\n",
      "Epoch 191/200\n",
      "53879/53879 [==============================] - 1s 17us/step - loss: 0.7112 - acc: 0.7916 - val_loss: 0.8073 - val_acc: 0.7768\n",
      "Epoch 192/200\n",
      "53879/53879 [==============================] - 1s 18us/step - loss: 0.7137 - acc: 0.7914 - val_loss: 0.8076 - val_acc: 0.7744\n",
      "Epoch 193/200\n",
      "53879/53879 [==============================] - 1s 18us/step - loss: 0.7089 - acc: 0.7900 - val_loss: 0.8098 - val_acc: 0.7753\n",
      "Epoch 194/200\n",
      "53879/53879 [==============================] - 1s 20us/step - loss: 0.7049 - acc: 0.7923 - val_loss: 0.8096 - val_acc: 0.7737\n",
      "Epoch 195/200\n",
      "53879/53879 [==============================] - 1s 16us/step - loss: 0.7027 - acc: 0.7927 - val_loss: 0.8095 - val_acc: 0.7764\n",
      "Epoch 196/200\n",
      "53879/53879 [==============================] - 1s 17us/step - loss: 0.7064 - acc: 0.7918 - val_loss: 0.8077 - val_acc: 0.7760\n",
      "Epoch 197/200\n",
      "53879/53879 [==============================] - 1s 17us/step - loss: 0.7035 - acc: 0.7927 - val_loss: 0.8090 - val_acc: 0.7754\n",
      "Epoch 198/200\n",
      "53879/53879 [==============================] - 1s 18us/step - loss: 0.7056 - acc: 0.7921 - val_loss: 0.8087 - val_acc: 0.7749\n",
      "Epoch 199/200\n",
      "53879/53879 [==============================] - 1s 18us/step - loss: 0.6994 - acc: 0.7928 - val_loss: 0.8102 - val_acc: 0.7765\n",
      "Epoch 200/200\n",
      "53879/53879 [==============================] - 1s 20us/step - loss: 0.6973 - acc: 0.7941 - val_loss: 0.8116 - val_acc: 0.7744\n"
     ]
    }
   ],
   "source": [
    "hist = model.fit(x_train, y_train,\n",
    "                 batch_size=1024,\n",
    "                 epochs=200, #Increase this when not on Kaggle kernel\n",
    "                 verbose=1,  #1 for ETA, 0 for silent\n",
    "                 validation_data=(x_val, y_val), \n",
    "                 callbacks=[tensorBoard])"
   ]
  },
  {
   "cell_type": "code",
   "execution_count": 9,
   "metadata": {},
   "outputs": [
    {
     "name": "stdout",
     "output_type": "stream",
     "text": [
      "Final loss: 0.8116, final accuracy: 0.7744\n"
     ]
    }
   ],
   "source": [
    "final_loss, final_acc = model.evaluate(x_val, y_val, verbose=0)\n",
    "print(\"Final loss: {0:.4f}, final accuracy: {1:.4f}\".format(final_loss, final_acc))"
   ]
  },
  {
   "cell_type": "code",
   "execution_count": 10,
   "metadata": {},
   "outputs": [
    {
     "name": "stdout",
     "output_type": "stream",
     "text": [
      "(7120, 80)\n",
      "(7120, 80)\n"
     ]
    }
   ],
   "source": [
    "val_preds = model.predict(x_val)\n",
    "print(val_preds.shape)\n",
    "print(y_val.shape)"
   ]
  },
  {
   "cell_type": "code",
   "execution_count": 11,
   "metadata": {},
   "outputs": [
    {
     "name": "stdout",
     "output_type": "stream",
     "text": [
      "Val log_loss: 0.8125005163971705\n",
      "Val limited log_loss: 1.0633472009907279\n"
     ]
    }
   ],
   "source": [
    "from sklearn.metrics import log_loss, accuracy_score\n",
    "\n",
    "print('Val log_loss: {}'.format(log_loss(y_val, val_preds)))\n",
    "val_proba_limited = np.clip(val_preds, 0.005, 0.995)\n",
    "print('Val limited log_loss: {}'.format(log_loss(y_val, val_proba_limited)))"
   ]
  },
  {
   "cell_type": "code",
   "execution_count": 12,
   "metadata": {},
   "outputs": [
    {
     "data": {
      "image/png": "[encoded data removed]",
      "text/plain": [
       "<matplotlib.figure.Figure at 0xb49f220b38>"
      ]
     },
     "metadata": {},
     "output_type": "display_data"
    },
    {
     "data": {
      "image/png": "[encoded data removed]",
      "text/plain": [
       "<matplotlib.figure.Figure at 0xb4e8183d30>"
      ]
     },
     "metadata": {},
     "output_type": "display_data"
    }
   ],
   "source": [
    "import matplotlib.pyplot as plt\n",
    "%matplotlib inline\n",
    "\n",
    "plt.plot(hist.history['loss'], color='b')\n",
    "plt.plot(hist.history['val_loss'], color='r')\n",
    "plt.show()\n",
    "plt.plot(hist.history['acc'], color='b')\n",
    "plt.plot(hist.history['val_acc'], color='r')\n",
    "plt.show()"
   ]
  },
  {
   "cell_type": "markdown",
   "metadata": {},
   "source": [
    "## Output"
   ]
  },
  {
   "cell_type": "code",
   "execution_count": 13,
   "metadata": {},
   "outputs": [
    {
     "name": "stdout",
     "output_type": "stream",
     "text": [
      "run_name: SceneClassification_Train_NN_20171130_211657_7744\n"
     ]
    }
   ],
   "source": [
    "run_name0 = run_name + '_' + str(int(final_acc*10000))\n",
    "print('run_name: ' + run_name0)"
   ]
  },
  {
   "cell_type": "code",
   "execution_count": 15,
   "metadata": {},
   "outputs": [],
   "source": [
    "def saveModel(model, run_name):\n",
    "    cwd = os.getcwd()\n",
    "    modelPath = os.path.join(cwd, 'model')\n",
    "    if not os.path.isdir(modelPath):\n",
    "        os.mkdir(modelPath)\n",
    "    weigthsFile = os.path.join(modelPath, run_name + '.h5')\n",
    "    model.save(weigthsFile)\n",
    "saveModel(model, run_name0)"
   ]
  },
  {
   "cell_type": "code",
   "execution_count": 16,
   "metadata": {},
   "outputs": [
    {
     "name": "stdout",
     "output_type": "stream",
     "text": [
      "SceneClassification_Train_NN_20171130_211657_7744\n",
      "Done !\n"
     ]
    }
   ],
   "source": [
    "print(run_name0)\n",
    "print('Done !')"
   ]
  },
  {
   "cell_type": "code",
   "execution_count": null,
   "metadata": {
    "collapsed": true
   },
   "outputs": [],
   "source": []
  }
 ],
 "metadata": {
  "kernelspec": {
   "display_name": "Python 3",
   "language": "python",
   "name": "python3"
  },
  "language_info": {
   "codemirror_mode": {
    "name": "ipython",
    "version": 3
   },
   "file_extension": ".py",
   "mimetype": "text/x-python",
   "name": "python",
   "nbconvert_exporter": "python",
   "pygments_lexer": "ipython3",
   "version": "3.5.4"
  }
 },
 "nbformat": 4,
 "nbformat_minor": 2
}
