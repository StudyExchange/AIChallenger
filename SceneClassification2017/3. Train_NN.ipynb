{
 "cells": [
  {
   "cell_type": "markdown",
   "metadata": {},
   "source": [
    "# 3. Train_NN\n",
    "\n",
    "**Tensorboard**\n",
    "- Input at command: tensorboard --logdir=./log\n",
    "- Input at browser: http://127.0.0.1:6006"
   ]
  },
  {
   "cell_type": "code",
   "execution_count": 1,
   "metadata": {},
   "outputs": [
    {
     "name": "stdout",
     "output_type": "stream",
     "text": [
      "run_name: SceneClassification_Train_NN_20171129_225532\n",
      "model_path: E:\\AIChallenger\\SceneClassification2017\\model\n"
     ]
    }
   ],
   "source": [
    "import time\n",
    "import os\n",
    "import pandas as pd\n",
    "\n",
    "project_name = 'SceneClassification'\n",
    "step_name = 'Train_NN'\n",
    "time_str = time.strftime(\"%Y%m%d_%H%M%S\", time.localtime())\n",
    "run_name = project_name + '_' + step_name + '_' + time_str\n",
    "print('run_name: ' + run_name)\n",
    "\n",
    "cwd = os.getcwd()\n",
    "model_path = os.path.join(cwd, 'model')\n",
    "print('model_path: ' + model_path)"
   ]
  },
  {
   "cell_type": "code",
   "execution_count": 2,
   "metadata": {},
   "outputs": [
    {
     "name": "stdout",
     "output_type": "stream",
     "text": [
      "['00002ff812f48a3df27c321d517a6300ed8da0c3.jpg', '00049a860dca2af378faeb0ee6f435c6063818ef.jpg', '0011a9c9216c3763ffc33641a8ffc975127dc404.jpg', '0045a44cacc7bc9826db9b54d2dcd70b810250f9.jpg', '004b6823145471c6a4ce292e864909fde2d04969.jpg', '0056e4d54eee781117c9d407d03ebf7192126b1f.jpg', '005763f88b25b18ae524b25afcce960403665383.jpg', '005b5444df96e3a155f2a73a8dccc0267e118413.jpg', '005c6ba205a246d0d3c8f73adfd4398b8e483962.jpg', '005de85662d754f98a1476a37b189902800ace91.jpg']\n"
     ]
    }
   ],
   "source": [
    "test_images = os.listdir(os.path.join(cwd, 'input', 'data_test_a', 'test'))\n",
    "print(test_images[0:10])"
   ]
  },
  {
   "cell_type": "code",
   "execution_count": 3,
   "metadata": {},
   "outputs": [
    {
     "name": "stdout",
     "output_type": "stream",
     "text": [
      "(53879, 3584)\n",
      "(3584,)\n",
      "53879\n",
      "(7120, 3584)\n",
      "7120\n",
      "(7040, 3584)\n"
     ]
    }
   ],
   "source": [
    "import h5py\n",
    "import numpy as np\n",
    "from sklearn.utils import shuffle\n",
    "np.random.seed(2017)\n",
    "\n",
    "x_train = []\n",
    "y_train = {}\n",
    "x_val = []\n",
    "y_val = {}\n",
    "x_test = []\n",
    "\n",
    "cwd = os.getcwd()\n",
    "feature_cgg16 = os.path.join(cwd, 'model', 'feature_VGG16_{}.h5'.format(171023))\n",
    "feature_cgg19 = os.path.join(cwd, 'model', 'feature_VGG19_{}.h5'.format(171023))\n",
    "feature_resnet50 = os.path.join(cwd, 'model', 'feature_ResNet50_{}.h5'.format(171023))\n",
    "feature_mobilenet = os.path.join(cwd, 'model', 'feature_MobileNet_{}.h5'.format(171023))\n",
    "feature_xception = os.path.join(cwd, 'model', 'feature_Xception_{}.h5'.format(171023))\n",
    "feature_inception = os.path.join(cwd, 'model', 'feature_InceptionV3_{}.h5'.format(171127))\n",
    "feature_resnetv2 = os.path.join(cwd, 'model', 'feature_InceptionResNetV2_{}.h5'.format(171127))\n",
    "for filename in [feature_inception, feature_resnetv2]:\n",
    "    with h5py.File(filename, 'r') as h:\n",
    "        x_train.append(np.array(h['train']))\n",
    "        y_train = np.array(h['train_label'])\n",
    "        x_val.append(np.array(h['val']))\n",
    "        y_val = np.array(h['val_label'])\n",
    "        x_test.append(np.array(h['test']))\n",
    "\n",
    "# print(x_train[0].shape)\n",
    "x_train = np.concatenate(x_train, axis=-1)\n",
    "# y_train = np.concatenate(y_train, axis=0)\n",
    "x_val = np.concatenate(x_val, axis=-1)\n",
    "# y_val = np.concatenate(y_val, axis=0)\n",
    "x_test = np.concatenate(x_test, axis=-1)\n",
    "print(x_train.shape)\n",
    "print(x_train.shape[1:])\n",
    "\n",
    "print(len(y_train))\n",
    "print(x_val.shape)\n",
    "print(len(y_val))\n",
    "print(x_test.shape)"
   ]
  },
  {
   "cell_type": "code",
   "execution_count": 4,
   "metadata": {},
   "outputs": [
    {
     "name": "stdout",
     "output_type": "stream",
     "text": [
      "(53879, 3584)\n",
      "(53879,)\n"
     ]
    }
   ],
   "source": [
    "# x_train, y_train = shuffle(x_train, y_train)\n",
    "print(x_train.shape)\n",
    "print(y_train.shape)"
   ]
  },
  {
   "cell_type": "code",
   "execution_count": 5,
   "metadata": {},
   "outputs": [
    {
     "name": "stderr",
     "output_type": "stream",
     "text": [
      "Using TensorFlow backend.\n"
     ]
    },
    {
     "name": "stdout",
     "output_type": "stream",
     "text": [
      "(53879, 80)\n",
      "(7120, 80)\n"
     ]
    }
   ],
   "source": [
    "from keras.utils.np_utils import to_categorical\n",
    "\n",
    "y_train = to_categorical(y_train)\n",
    "y_val = to_categorical(y_val)\n",
    "print(y_train.shape)\n",
    "print(y_val.shape)"
   ]
  },
  {
   "cell_type": "code",
   "execution_count": 6,
   "metadata": {
    "collapsed": true
   },
   "outputs": [],
   "source": [
    "from keras.models import *\n",
    "from keras.layers import *\n",
    "from keras.optimizers import Adam\n",
    "\n",
    "model = Sequential()\n",
    "model.add(Dense(1024, input_shape=x_train.shape[1:]))\n",
    "model.add(Dropout(0.5))\n",
    "model.add(Dense(1024, activation='relu'))\n",
    "model.add(Dropout(0.5))\n",
    "model.add(Dense(1024, activation='relu'))\n",
    "model.add(Dropout(0.5))\n",
    "model.add(Dense(80, activation='softmax'))\n",
    "\n",
    "model.compile(optimizer=Adam(lr=1e-4),\n",
    "              loss='categorical_crossentropy',\n",
    "              metrics=['accuracy'])"
   ]
  },
  {
   "cell_type": "code",
   "execution_count": 7,
   "metadata": {},
   "outputs": [
    {
     "name": "stdout",
     "output_type": "stream",
     "text": [
      "log_dir:E:\\AIChallenger\\SceneClassification2017\\model\\SceneClassification_Train_NN_20171129_225532\n"
     ]
    }
   ],
   "source": [
    "from keras.callbacks import TensorBoard\n",
    "\n",
    "log_path = os.path.join(model_path, run_name)\n",
    "print('log_dir:' + log_path)\n",
    "\n",
    "from keras.callbacks import TensorBoard, LearningRateScheduler\n",
    "# annealer = LearningRateScheduler(lambda x: 1e-3 * 0.9 ** x) # Do not why, when add annealer, the net will be divergency\n",
    "tensorBoard = TensorBoard(log_dir=log_path)"
   ]
  },
  {
   "cell_type": "code",
   "execution_count": 8,
   "metadata": {},
   "outputs": [
    {
     "name": "stdout",
     "output_type": "stream",
     "text": [
      "Train on 53879 samples, validate on 7120 samples\n",
      "Epoch 1/50\n",
      "53879/53879 [==============================] - 6s 118us/step - loss: 4.1493 - acc: 0.0858 - val_loss: 3.0038 - val_acc: 0.4847\n",
      "Epoch 2/50\n",
      "53879/53879 [==============================] - 4s 72us/step - loss: 2.8077 - acc: 0.3354 - val_loss: 1.6239 - val_acc: 0.6118\n",
      "Epoch 3/50\n",
      "53879/53879 [==============================] - 4s 68us/step - loss: 2.0542 - acc: 0.4672 - val_loss: 1.2888 - val_acc: 0.6603\n",
      "Epoch 4/50\n",
      "53879/53879 [==============================] - 2s 41us/step - loss: 1.7785 - acc: 0.5292 - val_loss: 1.1605 - val_acc: 0.6816\n",
      "Epoch 5/50\n",
      "53879/53879 [==============================] - 4s 81us/step - loss: 1.6218 - acc: 0.5639 - val_loss: 1.0699 - val_acc: 0.7020\n",
      "Epoch 6/50\n",
      "53879/53879 [==============================] - 3s 57us/step - loss: 1.5303 - acc: 0.5864 - val_loss: 1.0199 - val_acc: 0.7162\n",
      "Epoch 7/50\n",
      "53879/53879 [==============================] - 2s 42us/step - loss: 1.4552 - acc: 0.6042 - val_loss: 0.9764 - val_acc: 0.7213\n",
      "Epoch 8/50\n",
      "53879/53879 [==============================] - 5s 94us/step - loss: 1.4086 - acc: 0.6169 - val_loss: 0.9639 - val_acc: 0.7287\n",
      "Epoch 9/50\n",
      "53879/53879 [==============================] - 3s 48us/step - loss: 1.3548 - acc: 0.6293 - val_loss: 0.9277 - val_acc: 0.7361\n",
      "Epoch 10/50\n",
      "53879/53879 [==============================] - 3s 64us/step - loss: 1.3209 - acc: 0.6382 - val_loss: 0.9106 - val_acc: 0.7369\n",
      "Epoch 11/50\n",
      "53879/53879 [==============================] - 4s 72us/step - loss: 1.2849 - acc: 0.6464 - val_loss: 0.8938 - val_acc: 0.7433\n",
      "Epoch 12/50\n",
      "53879/53879 [==============================] - 2s 41us/step - loss: 1.2509 - acc: 0.6549 - val_loss: 0.8827 - val_acc: 0.7463\n",
      "Epoch 13/50\n",
      "53879/53879 [==============================] - 4s 69us/step - loss: 1.2208 - acc: 0.6618 - val_loss: 0.8695 - val_acc: 0.7471\n",
      "Epoch 14/50\n",
      "53879/53879 [==============================] - 3s 62us/step - loss: 1.1992 - acc: 0.6656 - val_loss: 0.8537 - val_acc: 0.7494\n",
      "Epoch 15/50\n",
      "53879/53879 [==============================] - 2s 42us/step - loss: 1.1740 - acc: 0.6741 - val_loss: 0.8465 - val_acc: 0.7549\n",
      "Epoch 16/50\n",
      "53879/53879 [==============================] - 4s 74us/step - loss: 1.1524 - acc: 0.6772 - val_loss: 0.8378 - val_acc: 0.7559\n",
      "Epoch 17/50\n",
      "53879/53879 [==============================] - 3s 47us/step - loss: 1.1358 - acc: 0.6818 - val_loss: 0.8264 - val_acc: 0.7591\n",
      "Epoch 18/50\n",
      "53879/53879 [==============================] - 2s 42us/step - loss: 1.1192 - acc: 0.6862 - val_loss: 0.8189 - val_acc: 0.7584\n",
      "Epoch 19/50\n",
      "53879/53879 [==============================] - 4s 68us/step - loss: 1.1005 - acc: 0.6896 - val_loss: 0.8150 - val_acc: 0.7604\n",
      "Epoch 20/50\n",
      "53879/53879 [==============================] - 3s 47us/step - loss: 1.0896 - acc: 0.6918 - val_loss: 0.8076 - val_acc: 0.7636\n",
      "Epoch 21/50\n",
      "53879/53879 [==============================] - 2s 42us/step - loss: 1.0556 - acc: 0.7025 - val_loss: 0.8028 - val_acc: 0.7621\n",
      "Epoch 22/50\n",
      "53879/53879 [==============================] - 4s 68us/step - loss: 1.0490 - acc: 0.7034 - val_loss: 0.8012 - val_acc: 0.7657\n",
      "Epoch 23/50\n",
      "53879/53879 [==============================] - 2s 45us/step - loss: 1.0369 - acc: 0.7062 - val_loss: 0.7900 - val_acc: 0.7656\n",
      "Epoch 24/50\n",
      "53879/53879 [==============================] - 2s 41us/step - loss: 1.0209 - acc: 0.7114 - val_loss: 0.7900 - val_acc: 0.7662\n",
      "Epoch 25/50\n",
      "53879/53879 [==============================] - 3s 51us/step - loss: 1.0119 - acc: 0.7118 - val_loss: 0.7806 - val_acc: 0.7708\n",
      "Epoch 26/50\n",
      "53879/53879 [==============================] - 4s 66us/step - loss: 0.9965 - acc: 0.7158 - val_loss: 0.7847 - val_acc: 0.7656\n",
      "Epoch 27/50\n",
      "53879/53879 [==============================] - 2s 41us/step - loss: 0.9779 - acc: 0.7200 - val_loss: 0.7798 - val_acc: 0.7694\n",
      "Epoch 28/50\n",
      "53879/53879 [==============================] - 2s 42us/step - loss: 0.9675 - acc: 0.7250 - val_loss: 0.7681 - val_acc: 0.7719\n",
      "Epoch 29/50\n",
      "53879/53879 [==============================] - 4s 75us/step - loss: 0.9667 - acc: 0.7227 - val_loss: 0.7766 - val_acc: 0.7718\n",
      "Epoch 30/50\n",
      "53879/53879 [==============================] - 3s 56us/step - loss: 0.9461 - acc: 0.7273 - val_loss: 0.7698 - val_acc: 0.7723\n",
      "Epoch 31/50\n",
      "53879/53879 [==============================] - 3s 60us/step - loss: 0.9387 - acc: 0.7316 - val_loss: 0.7635 - val_acc: 0.7732\n",
      "Epoch 32/50\n",
      "53879/53879 [==============================] - 4s 71us/step - loss: 0.9248 - acc: 0.7313 - val_loss: 0.7573 - val_acc: 0.7742\n",
      "Epoch 33/50\n",
      "53879/53879 [==============================] - 2s 42us/step - loss: 0.9179 - acc: 0.7338 - val_loss: 0.7634 - val_acc: 0.7747\n",
      "Epoch 34/50\n",
      "53879/53879 [==============================] - 4s 68us/step - loss: 0.9058 - acc: 0.7368 - val_loss: 0.7560 - val_acc: 0.7750\n",
      "Epoch 35/50\n",
      "53879/53879 [==============================] - 4s 66us/step - loss: 0.8989 - acc: 0.7380 - val_loss: 0.7529 - val_acc: 0.7758\n",
      "Epoch 36/50\n",
      "53879/53879 [==============================] - 2s 41us/step - loss: 0.8907 - acc: 0.7429 - val_loss: 0.7547 - val_acc: 0.7763\n",
      "Epoch 37/50\n",
      "53879/53879 [==============================] - 6s 106us/step - loss: 0.8785 - acc: 0.7428 - val_loss: 0.7469 - val_acc: 0.7781\n",
      "Epoch 38/50\n",
      "53879/53879 [==============================] - 3s 57us/step - loss: 0.8720 - acc: 0.7460 - val_loss: 0.7519 - val_acc: 0.7763\n",
      "Epoch 39/50\n",
      "53879/53879 [==============================] - 6s 109us/step - loss: 0.8619 - acc: 0.7498 - val_loss: 0.7505 - val_acc: 0.7791\n",
      "Epoch 40/50\n",
      "53879/53879 [==============================] - 3s 49us/step - loss: 0.8510 - acc: 0.7521 - val_loss: 0.7470 - val_acc: 0.7774\n",
      "Epoch 41/50\n",
      "53879/53879 [==============================] - 5s 89us/step - loss: 0.8446 - acc: 0.7525 - val_loss: 0.7501 - val_acc: 0.7779\n",
      "Epoch 42/50\n",
      "53879/53879 [==============================] - 4s 72us/step - loss: 0.8364 - acc: 0.7547 - val_loss: 0.7460 - val_acc: 0.7794\n",
      "Epoch 43/50\n",
      "53879/53879 [==============================] - 5s 95us/step - loss: 0.8304 - acc: 0.7554 - val_loss: 0.7440 - val_acc: 0.7801\n",
      "Epoch 44/50\n",
      "53879/53879 [==============================] - 3s 58us/step - loss: 0.8120 - acc: 0.7615 - val_loss: 0.7432 - val_acc: 0.7789\n",
      "Epoch 45/50\n",
      "53879/53879 [==============================] - 5s 92us/step - loss: 0.8204 - acc: 0.7604 - val_loss: 0.7388 - val_acc: 0.7775\n",
      "Epoch 46/50\n",
      "53879/53879 [==============================] - 4s 72us/step - loss: 0.7985 - acc: 0.7659 - val_loss: 0.7400 - val_acc: 0.7777\n",
      "Epoch 47/50\n",
      "53879/53879 [==============================] - 4s 77us/step - loss: 0.7967 - acc: 0.7639 - val_loss: 0.7472 - val_acc: 0.7772\n",
      "Epoch 48/50\n",
      "53879/53879 [==============================] - 4s 81us/step - loss: 0.7892 - acc: 0.7671 - val_loss: 0.7356 - val_acc: 0.7812\n",
      "Epoch 49/50\n",
      "53879/53879 [==============================] - 2s 45us/step - loss: 0.7775 - acc: 0.7688 - val_loss: 0.7466 - val_acc: 0.7817\n",
      "Epoch 50/50\n",
      "53879/53879 [==============================] - 6s 112us/step - loss: 0.7727 - acc: 0.7712 - val_loss: 0.7350 - val_acc: 0.7823\n"
     ]
    }
   ],
   "source": [
    "hist = model.fit(x_train, y_train,\n",
    "                 batch_size=1024,\n",
    "                 epochs=50, #Increase this when not on Kaggle kernel\n",
    "                 verbose=1,  #1 for ETA, 0 for silent\n",
    "                 validation_data=(x_val, y_val), \n",
    "                 callbacks=[tensorBoard])"
   ]
  },
  {
   "cell_type": "code",
   "execution_count": 9,
   "metadata": {},
   "outputs": [
    {
     "name": "stdout",
     "output_type": "stream",
     "text": [
      "Final loss: 0.7350, final accuracy: 0.7823\n"
     ]
    }
   ],
   "source": [
    "final_loss, final_acc = model.evaluate(x_val, y_val, verbose=0)\n",
    "print(\"Final loss: {0:.4f}, final accuracy: {1:.4f}\".format(final_loss, final_acc))"
   ]
  },
  {
   "cell_type": "code",
   "execution_count": 10,
   "metadata": {},
   "outputs": [
    {
     "name": "stdout",
     "output_type": "stream",
     "text": [
      "(7120, 80)\n",
      "(7120, 80)\n"
     ]
    }
   ],
   "source": [
    "val_preds = model.predict(x_val)\n",
    "print(val_preds.shape)\n",
    "print(y_val.shape)"
   ]
  },
  {
   "cell_type": "code",
   "execution_count": 11,
   "metadata": {},
   "outputs": [
    {
     "name": "stdout",
     "output_type": "stream",
     "text": [
      "Val log_loss: 0.7350299634798636\n",
      "Val limited log_loss: 1.0129649344831706\n"
     ]
    }
   ],
   "source": [
    "from sklearn.metrics import log_loss, accuracy_score\n",
    "\n",
    "print('Val log_loss: {}'.format(log_loss(y_val, val_preds)))\n",
    "val_proba_limited = np.clip(val_preds, 0.005, 0.995)\n",
    "print('Val limited log_loss: {}'.format(log_loss(y_val, val_proba_limited)))"
   ]
  },
  {
   "cell_type": "code",
   "execution_count": 12,
   "metadata": {},
   "outputs": [
    {
     "data": {
      "image/png": "[encoded data removed]",
      "text/plain": [
       "<matplotlib.figure.Figure at 0x59dd25c50>"
      ]
     },
     "metadata": {},
     "output_type": "display_data"
    },
    {
     "data": {
      "image/png": "[encoded data removed]",
      "text/plain": [
       "<matplotlib.figure.Figure at 0x5a568bf98>"
      ]
     },
     "metadata": {},
     "output_type": "display_data"
    }
   ],
   "source": [
    "import matplotlib.pyplot as plt\n",
    "%matplotlib inline\n",
    "\n",
    "plt.plot(hist.history['loss'], color='b')\n",
    "plt.plot(hist.history['val_loss'], color='r')\n",
    "plt.show()\n",
    "plt.plot(hist.history['acc'], color='b')\n",
    "plt.plot(hist.history['val_acc'], color='r')\n",
    "plt.show()"
   ]
  },
  {
   "cell_type": "markdown",
   "metadata": {},
   "source": [
    "## Output"
   ]
  },
  {
   "cell_type": "code",
   "execution_count": 13,
   "metadata": {},
   "outputs": [
    {
     "name": "stdout",
     "output_type": "stream",
     "text": [
      "run_name: SceneClassification_Train_NN_20171129_225532_7823\n"
     ]
    }
   ],
   "source": [
    "run_name0 = run_name + '_' + str(int(final_acc*10000))\n",
    "print('run_name: ' + run_name0)"
   ]
  },
  {
   "cell_type": "code",
   "execution_count": 14,
   "metadata": {
    "collapsed": true
   },
   "outputs": [],
   "source": [
    "def saveModel(model, run_name):\n",
    "    cwd = os.getcwd()\n",
    "    modelPath = os.path.join(cwd, 'model')\n",
    "    if not os.path.isdir(modelPath):\n",
    "        os.mkdir(modelPath)\n",
    "    weigthsFile = os.path.join(modelPath, run_name + '.h5')\n",
    "    model.save(weigthsFile)\n",
    "saveModel(model, run_name0)"
   ]
  },
  {
   "cell_type": "code",
   "execution_count": 15,
   "metadata": {},
   "outputs": [
    {
     "name": "stdout",
     "output_type": "stream",
     "text": [
      "SceneClassification_Train_NN_20171129_225532_7823\n",
      "Done !\n"
     ]
    }
   ],
   "source": [
    "print(run_name0)\n",
    "print('Done !')"
   ]
  },
  {
   "cell_type": "code",
   "execution_count": null,
   "metadata": {
    "collapsed": true
   },
   "outputs": [],
   "source": []
  }
 ],
 "metadata": {
  "kernelspec": {
   "display_name": "Python 3",
   "language": "python",
   "name": "python3"
  },
  "language_info": {
   "codemirror_mode": {
    "name": "ipython",
    "version": 3
   },
   "file_extension": ".py",
   "mimetype": "text/x-python",
   "name": "python",
   "nbconvert_exporter": "python",
   "pygments_lexer": "ipython3",
   "version": "3.5.4"
  }
 },
 "nbformat": 4,
 "nbformat_minor": 2
}
