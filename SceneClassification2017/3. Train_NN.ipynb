{
 "cells": [
  {
   "cell_type": "markdown",
   "metadata": {},
   "source": [
    "# 3. Train_NN\n",
    "\n",
    "**Tensorboard**\n",
    "- Input at command: tensorboard --logdir=./log\n",
    "- Input at browser: http://127.0.0.1:6006"
   ]
  },
  {
   "cell_type": "code",
   "execution_count": 1,
   "metadata": {},
   "outputs": [
    {
     "name": "stdout",
     "output_type": "stream",
     "text": [
      "run_name: SceneClassification_Train_NN_20171028_232608\n",
      "model_path: E:\\SceneClassification\\model\n"
     ]
    }
   ],
   "source": [
    "import time\n",
    "import os\n",
    "import pandas as pd\n",
    "\n",
    "project_name = 'SceneClassification'\n",
    "step_name = 'Train_NN'\n",
    "time_str = time.strftime(\"%Y%m%d_%H%M%S\", time.localtime())\n",
    "run_name = project_name + '_' + step_name + '_' + time_str\n",
    "print('run_name: ' + run_name)\n",
    "\n",
    "cwd = os.getcwd()\n",
    "model_path = os.path.join(cwd, 'model')\n",
    "print('model_path: ' + model_path)"
   ]
  },
  {
   "cell_type": "code",
   "execution_count": 2,
   "metadata": {},
   "outputs": [
    {
     "name": "stdout",
     "output_type": "stream",
     "text": [
      "['00002ff812f48a3df27c321d517a6300ed8da0c3.jpg', '00049a860dca2af378faeb0ee6f435c6063818ef.jpg', '0011a9c9216c3763ffc33641a8ffc975127dc404.jpg', '0045a44cacc7bc9826db9b54d2dcd70b810250f9.jpg', '004b6823145471c6a4ce292e864909fde2d04969.jpg', '0056e4d54eee781117c9d407d03ebf7192126b1f.jpg', '005763f88b25b18ae524b25afcce960403665383.jpg', '005b5444df96e3a155f2a73a8dccc0267e118413.jpg', '005c6ba205a246d0d3c8f73adfd4398b8e483962.jpg', '005de85662d754f98a1476a37b189902800ace91.jpg']\n"
     ]
    }
   ],
   "source": [
    "test_images = os.listdir(os.path.join(cwd, 'input', 'data_test_a', 'test'))\n",
    "print(test_images[0:10])"
   ]
  },
  {
   "cell_type": "code",
   "execution_count": 3,
   "metadata": {},
   "outputs": [
    {
     "name": "stdout",
     "output_type": "stream",
     "text": [
      "(53879, 8192)\n",
      "(8192,)\n",
      "53879\n",
      "(7120, 8192)\n",
      "7120\n",
      "(7040, 8192)\n"
     ]
    }
   ],
   "source": [
    "import h5py\n",
    "import numpy as np\n",
    "from sklearn.utils import shuffle\n",
    "np.random.seed(2017)\n",
    "\n",
    "x_train = []\n",
    "y_train = {}\n",
    "x_val = []\n",
    "y_val = {}\n",
    "x_test = []\n",
    "\n",
    "cwd = os.getcwd()\n",
    "feature_cgg16 = os.path.join(cwd, 'model', 'feature_VGG16_{}.h5'.format(171023))\n",
    "feature_cgg19 = os.path.join(cwd, 'model', 'feature_VGG19_{}.h5'.format(171023))\n",
    "feature_resnet50 = os.path.join(cwd, 'model', 'feature_ResNet50_{}.h5'.format(171023))\n",
    "feature_mobilenet = os.path.join(cwd, 'model', 'feature_MobileNet_{}.h5'.format(171023))\n",
    "feature_xception = os.path.join(cwd, 'model', 'feature_Xception_{}.h5'.format(171023))\n",
    "feature_inception = os.path.join(cwd, 'model', 'feature_InceptionV3_{}.h5'.format(171023))\n",
    "feature_resnetv2 = os.path.join(cwd, 'model', 'feature_ResNetV2_{}.h5'.format(171023))\n",
    "for filename in [feature_cgg16, feature_cgg19, feature_resnet50, feature_mobilenet, feature_xception, feature_inception, feature_resnetv2]:\n",
    "    with h5py.File(filename, 'r') as h:\n",
    "        x_train.append(np.array(h['train']))\n",
    "        y_train = np.array(h['train_label'])\n",
    "        x_val.append(np.array(h['val']))\n",
    "        y_val = np.array(h['val_label'])\n",
    "        x_test.append(np.array(h['test']))\n",
    "\n",
    "# print(x_train[0].shape)\n",
    "x_train = np.concatenate(x_train, axis=-1)\n",
    "# y_train = np.concatenate(y_train, axis=0)\n",
    "x_val = np.concatenate(x_val, axis=-1)\n",
    "# y_val = np.concatenate(y_val, axis=0)\n",
    "x_test = np.concatenate(x_test, axis=-1)\n",
    "print(x_train.shape)\n",
    "print(x_train.shape[1:])\n",
    "\n",
    "print(len(y_train))\n",
    "print(x_val.shape)\n",
    "print(len(y_val))\n",
    "print(x_test.shape)"
   ]
  },
  {
   "cell_type": "code",
   "execution_count": 4,
   "metadata": {},
   "outputs": [
    {
     "name": "stdout",
     "output_type": "stream",
     "text": [
      "(53879, 8192)\n",
      "(53879,)\n"
     ]
    }
   ],
   "source": [
    "# x_train, y_train = shuffle(x_train, y_train)\n",
    "print(x_train.shape)\n",
    "print(y_train.shape)"
   ]
  },
  {
   "cell_type": "code",
   "execution_count": 5,
   "metadata": {},
   "outputs": [
    {
     "name": "stderr",
     "output_type": "stream",
     "text": [
      "Using TensorFlow backend.\n"
     ]
    },
    {
     "name": "stdout",
     "output_type": "stream",
     "text": [
      "(53879, 80)\n",
      "(7120, 80)\n"
     ]
    }
   ],
   "source": [
    "from keras.utils.np_utils import to_categorical\n",
    "\n",
    "y_train = to_categorical(y_train)\n",
    "y_val = to_categorical(y_val)\n",
    "print(y_train.shape)\n",
    "print(y_val.shape)"
   ]
  },
  {
   "cell_type": "code",
   "execution_count": 6,
   "metadata": {
    "collapsed": true
   },
   "outputs": [],
   "source": [
    "from keras.models import *\n",
    "from keras.layers import *\n",
    "from keras.optimizers import Adam\n",
    "\n",
    "model = Sequential()\n",
    "model.add(Dense(8192, input_shape=x_train.shape[1:]))\n",
    "model.add(Dropout(0.5))\n",
    "model.add(Dense(8192, activation='sigmoid'))\n",
    "model.add(Dropout(0.5))\n",
    "model.add(Dense(2048, activation='sigmoid'))\n",
    "model.add(Dropout(0.5))\n",
    "model.add(Dense(512, activation='sigmoid'))\n",
    "model.add(Dropout(0.5))\n",
    "model.add(Dense(80, activation='softmax'))\n",
    "\n",
    "model.compile(optimizer=Adam(lr=1e-4),\n",
    "              loss='categorical_crossentropy',\n",
    "              metrics=['accuracy'])"
   ]
  },
  {
   "cell_type": "code",
   "execution_count": 7,
   "metadata": {},
   "outputs": [
    {
     "name": "stdout",
     "output_type": "stream",
     "text": [
      "log_dir:E:\\SceneClassification\\model\\SceneClassification_Train_NN_20171028_232608\n"
     ]
    }
   ],
   "source": [
    "from keras.callbacks import TensorBoard\n",
    "\n",
    "log_path = os.path.join(model_path, run_name)\n",
    "print('log_dir:' + log_path)\n",
    "\n",
    "from keras.callbacks import TensorBoard, LearningRateScheduler\n",
    "# annealer = LearningRateScheduler(lambda x: 1e-3 * 0.9 ** x) # Do not why, when add annealer, the net will be divergency\n",
    "tensorBoard = TensorBoard(log_dir=log_path)"
   ]
  },
  {
   "cell_type": "code",
   "execution_count": 8,
   "metadata": {},
   "outputs": [
    {
     "name": "stdout",
     "output_type": "stream",
     "text": [
      "Train on 53879 samples, validate on 7120 samples\n",
      "Epoch 1/50\n",
      "53879/53879 [==============================] - 17s - loss: 4.1484 - acc: 0.0622 - val_loss: 3.3622 - val_acc: 0.2837\n",
      "Epoch 2/50\n",
      "53879/53879 [==============================] - 15s - loss: 3.2741 - acc: 0.2232 - val_loss: 2.5609 - val_acc: 0.4562\n",
      "Epoch 3/50\n",
      "53879/53879 [==============================] - 15s - loss: 2.6679 - acc: 0.3582 - val_loss: 2.0378 - val_acc: 0.5532\n",
      "Epoch 4/50\n",
      "53879/53879 [==============================] - 15s - loss: 2.2462 - acc: 0.4549 - val_loss: 1.6923 - val_acc: 0.6059\n",
      "Epoch 5/50\n",
      "53879/53879 [==============================] - 15s - loss: 1.9433 - acc: 0.5206 - val_loss: 1.4619 - val_acc: 0.6426\n",
      "Epoch 6/50\n",
      "53879/53879 [==============================] - 15s - loss: 1.7202 - acc: 0.5714 - val_loss: 1.3088 - val_acc: 0.6728\n",
      "Epoch 7/50\n",
      "53879/53879 [==============================] - 15s - loss: 1.5563 - acc: 0.6096 - val_loss: 1.2175 - val_acc: 0.6899\n",
      "Epoch 8/50\n",
      "53879/53879 [==============================] - 16s - loss: 1.4254 - acc: 0.6396 - val_loss: 1.1140 - val_acc: 0.7083\n",
      "Epoch 9/50\n",
      "53879/53879 [==============================] - 15s - loss: 1.3241 - acc: 0.6615 - val_loss: 1.0514 - val_acc: 0.7160\n",
      "Epoch 10/50\n",
      "53879/53879 [==============================] - 15s - loss: 1.2412 - acc: 0.6810 - val_loss: 1.0055 - val_acc: 0.7222\n",
      "Epoch 11/50\n",
      "53879/53879 [==============================] - 16s - loss: 1.1626 - acc: 0.6995 - val_loss: 0.9687 - val_acc: 0.7338\n",
      "Epoch 12/50\n",
      "53879/53879 [==============================] - 15s - loss: 1.1059 - acc: 0.7124 - val_loss: 0.9370 - val_acc: 0.7372\n",
      "Epoch 13/50\n",
      "53879/53879 [==============================] - 15s - loss: 1.0495 - acc: 0.7258 - val_loss: 0.9080 - val_acc: 0.7413\n",
      "Epoch 14/50\n",
      "53879/53879 [==============================] - 15s - loss: 1.0048 - acc: 0.7382 - val_loss: 0.8859 - val_acc: 0.7461\n",
      "Epoch 15/50\n",
      "53879/53879 [==============================] - 15s - loss: 0.9637 - acc: 0.7465 - val_loss: 0.8827 - val_acc: 0.7473\n",
      "Epoch 16/50\n",
      "53879/53879 [==============================] - 15s - loss: 0.9254 - acc: 0.7544 - val_loss: 0.8620 - val_acc: 0.7525\n",
      "Epoch 17/50\n",
      "53879/53879 [==============================] - 15s - loss: 0.8894 - acc: 0.7648 - val_loss: 0.8545 - val_acc: 0.7539\n",
      "Epoch 18/50\n",
      "53879/53879 [==============================] - 15s - loss: 0.8593 - acc: 0.7710 - val_loss: 0.8509 - val_acc: 0.7574\n",
      "Epoch 19/50\n",
      "53879/53879 [==============================] - 15s - loss: 0.8254 - acc: 0.7800 - val_loss: 0.8463 - val_acc: 0.7579\n",
      "Epoch 20/50\n",
      "53879/53879 [==============================] - 15s - loss: 0.7996 - acc: 0.7857 - val_loss: 0.8381 - val_acc: 0.7573\n",
      "Epoch 21/50\n",
      "53879/53879 [==============================] - 16s - loss: 0.7673 - acc: 0.7951 - val_loss: 0.8290 - val_acc: 0.7615\n",
      "Epoch 22/50\n",
      "53879/53879 [==============================] - 16s - loss: 0.7426 - acc: 0.8010 - val_loss: 0.8269 - val_acc: 0.7622\n",
      "Epoch 23/50\n",
      "53879/53879 [==============================] - 16s - loss: 0.7194 - acc: 0.8088 - val_loss: 0.8208 - val_acc: 0.7647\n",
      "Epoch 24/50\n",
      "53879/53879 [==============================] - 16s - loss: 0.6963 - acc: 0.8146 - val_loss: 0.8174 - val_acc: 0.7639\n",
      "Epoch 25/50\n",
      "53879/53879 [==============================] - 15s - loss: 0.6655 - acc: 0.8205 - val_loss: 0.8208 - val_acc: 0.7650\n",
      "Epoch 26/50\n",
      "53879/53879 [==============================] - 15s - loss: 0.6511 - acc: 0.8236 - val_loss: 0.8098 - val_acc: 0.7692\n",
      "Epoch 27/50\n",
      "53879/53879 [==============================] - 15s - loss: 0.6285 - acc: 0.8298 - val_loss: 0.8210 - val_acc: 0.7642\n",
      "Epoch 28/50\n",
      "53879/53879 [==============================] - 16s - loss: 0.6044 - acc: 0.8383 - val_loss: 0.8079 - val_acc: 0.7673\n",
      "Epoch 29/50\n",
      "53879/53879 [==============================] - 15s - loss: 0.5831 - acc: 0.8439 - val_loss: 0.8149 - val_acc: 0.7664\n",
      "Epoch 30/50\n",
      "53879/53879 [==============================] - 16s - loss: 0.5698 - acc: 0.8471 - val_loss: 0.8294 - val_acc: 0.7647\n",
      "Epoch 31/50\n",
      "53879/53879 [==============================] - 16s - loss: 0.5515 - acc: 0.8511 - val_loss: 0.8239 - val_acc: 0.7663\n",
      "Epoch 32/50\n",
      "53879/53879 [==============================] - 15s - loss: 0.5358 - acc: 0.8554 - val_loss: 0.8264 - val_acc: 0.7670\n",
      "Epoch 33/50\n",
      "53879/53879 [==============================] - 15s - loss: 0.5165 - acc: 0.8607 - val_loss: 0.8283 - val_acc: 0.7663\n",
      "Epoch 34/50\n",
      "53879/53879 [==============================] - 16s - loss: 0.5016 - acc: 0.8660 - val_loss: 0.8407 - val_acc: 0.7617\n",
      "Epoch 35/50\n",
      "53879/53879 [==============================] - 16s - loss: 0.4868 - acc: 0.8689 - val_loss: 0.8359 - val_acc: 0.7662\n",
      "Epoch 36/50\n",
      "53879/53879 [==============================] - 16s - loss: 0.4622 - acc: 0.8755 - val_loss: 0.8489 - val_acc: 0.7660\n",
      "Epoch 37/50\n",
      "53879/53879 [==============================] - 15s - loss: 0.4515 - acc: 0.8797 - val_loss: 0.8423 - val_acc: 0.7684\n",
      "Epoch 38/50\n",
      "53879/53879 [==============================] - 16s - loss: 0.4312 - acc: 0.8840 - val_loss: 0.8475 - val_acc: 0.7631\n",
      "Epoch 39/50\n",
      "53879/53879 [==============================] - 16s - loss: 0.4211 - acc: 0.8884 - val_loss: 0.8492 - val_acc: 0.7643\n",
      "Epoch 40/50\n",
      "53879/53879 [==============================] - 16s - loss: 0.3999 - acc: 0.8933 - val_loss: 0.8495 - val_acc: 0.7680\n",
      "Epoch 41/50\n",
      "53879/53879 [==============================] - 16s - loss: 0.3875 - acc: 0.8972 - val_loss: 0.8650 - val_acc: 0.7664\n",
      "Epoch 42/50\n",
      "53879/53879 [==============================] - 15s - loss: 0.3787 - acc: 0.8992 - val_loss: 0.8635 - val_acc: 0.7654\n",
      "Epoch 43/50\n",
      "53879/53879 [==============================] - 15s - loss: 0.3600 - acc: 0.9047 - val_loss: 0.8684 - val_acc: 0.7670\n",
      "Epoch 44/50\n",
      "53879/53879 [==============================] - 15s - loss: 0.3482 - acc: 0.9082 - val_loss: 0.8830 - val_acc: 0.7631\n",
      "Epoch 45/50\n",
      "53879/53879 [==============================] - 16s - loss: 0.3423 - acc: 0.9087 - val_loss: 0.8723 - val_acc: 0.7659\n",
      "Epoch 46/50\n",
      "53879/53879 [==============================] - 16s - loss: 0.3196 - acc: 0.9161 - val_loss: 0.8866 - val_acc: 0.7650\n",
      "Epoch 47/50\n",
      "53879/53879 [==============================] - 16s - loss: 0.3117 - acc: 0.9176 - val_loss: 0.8909 - val_acc: 0.7612\n",
      "Epoch 48/50\n",
      "53879/53879 [==============================] - 16s - loss: 0.3018 - acc: 0.9210 - val_loss: 0.8893 - val_acc: 0.7635\n",
      "Epoch 49/50\n",
      "53879/53879 [==============================] - 16s - loss: 0.2882 - acc: 0.9247 - val_loss: 0.9012 - val_acc: 0.7654\n",
      "Epoch 50/50\n",
      "53879/53879 [==============================] - 16s - loss: 0.2809 - acc: 0.9275 - val_loss: 0.9050 - val_acc: 0.7625\n"
     ]
    }
   ],
   "source": [
    "hist = model.fit(x_train, y_train,\n",
    "                 batch_size=1024,\n",
    "                 epochs=50, #Increase this when not on Kaggle kernel\n",
    "                 verbose=1,  #1 for ETA, 0 for silent\n",
    "                 validation_data=(x_val, y_val), \n",
    "                 callbacks=[tensorBoard])"
   ]
  },
  {
   "cell_type": "code",
   "execution_count": 9,
   "metadata": {},
   "outputs": [
    {
     "name": "stdout",
     "output_type": "stream",
     "text": [
      "Final loss: 0.9050, final accuracy: 0.7625\n"
     ]
    }
   ],
   "source": [
    "final_loss, final_acc = model.evaluate(x_val, y_val, verbose=0)\n",
    "print(\"Final loss: {0:.4f}, final accuracy: {1:.4f}\".format(final_loss, final_acc))"
   ]
  },
  {
   "cell_type": "code",
   "execution_count": 10,
   "metadata": {},
   "outputs": [
    {
     "name": "stdout",
     "output_type": "stream",
     "text": [
      "(7120, 80)\n",
      "(7120, 80)\n"
     ]
    }
   ],
   "source": [
    "val_preds = model.predict(x_val)\n",
    "print(val_preds.shape)\n",
    "print(y_val.shape)"
   ]
  },
  {
   "cell_type": "code",
   "execution_count": 11,
   "metadata": {},
   "outputs": [
    {
     "name": "stdout",
     "output_type": "stream",
     "text": [
      "Val log_loss: 0.9049716983075761\n",
      "Val limited log_loss: 1.1457020616179772\n"
     ]
    }
   ],
   "source": [
    "from sklearn.metrics import log_loss, accuracy_score\n",
    "\n",
    "print('Val log_loss: {}'.format(log_loss(y_val, val_preds)))\n",
    "val_proba_limited = np.clip(val_preds, 0.005, 0.995)\n",
    "print('Val limited log_loss: {}'.format(log_loss(y_val, val_proba_limited)))"
   ]
  },
  {
   "cell_type": "code",
   "execution_count": 12,
   "metadata": {},
   "outputs": [
    {
     "data": {
      "image/png": "[encoded data removed]",
      "text/plain": [
       "<matplotlib.figure.Figure at 0x7da8f6ba58>"
      ]
     },
     "metadata": {},
     "output_type": "display_data"
    },
    {
     "data": {
      "image/png": "[encoded data removed]",
      "text/plain": [
       "<matplotlib.figure.Figure at 0x7dd302f0f0>"
      ]
     },
     "metadata": {},
     "output_type": "display_data"
    }
   ],
   "source": [
    "import matplotlib.pyplot as plt\n",
    "%matplotlib inline\n",
    "\n",
    "plt.plot(hist.history['loss'], color='b')\n",
    "plt.plot(hist.history['val_loss'], color='r')\n",
    "plt.show()\n",
    "plt.plot(hist.history['acc'], color='b')\n",
    "plt.plot(hist.history['val_acc'], color='r')\n",
    "plt.show()"
   ]
  },
  {
   "cell_type": "markdown",
   "metadata": {},
   "source": [
    "## Output"
   ]
  },
  {
   "cell_type": "code",
   "execution_count": 13,
   "metadata": {},
   "outputs": [
    {
     "name": "stdout",
     "output_type": "stream",
     "text": [
      "run_name: SceneClassification_Train_NN_20171028_232608_7625\n"
     ]
    }
   ],
   "source": [
    "run_name0 = run_name + '_' + str(int(final_acc*10000))\n",
    "print('run_name: ' + run_name0)"
   ]
  },
  {
   "cell_type": "code",
   "execution_count": 14,
   "metadata": {
    "collapsed": true
   },
   "outputs": [],
   "source": [
    "def saveModel(model, run_name):\n",
    "    cwd = os.getcwd()\n",
    "    modelPath = os.path.join(cwd, 'model')\n",
    "    if not os.path.isdir(modelPath):\n",
    "        os.mkdir(modelPath)\n",
    "    weigthsFile = os.path.join(modelPath, run_name + '.h5')\n",
    "    model.save(weigthsFile)\n",
    "saveModel(model, run_name0)"
   ]
  },
  {
   "cell_type": "code",
   "execution_count": 15,
   "metadata": {},
   "outputs": [
    {
     "name": "stdout",
     "output_type": "stream",
     "text": [
      "SceneClassification_Train_NN_20171028_232608_7625\n",
      "Done !\n"
     ]
    }
   ],
   "source": [
    "print(run_name0)\n",
    "print('Done !')"
   ]
  },
  {
   "cell_type": "code",
   "execution_count": null,
   "metadata": {
    "collapsed": true
   },
   "outputs": [],
   "source": []
  }
 ],
 "metadata": {
  "kernelspec": {
   "display_name": "Python 3",
   "language": "python",
   "name": "python3"
  },
  "language_info": {
   "codemirror_mode": {
    "name": "ipython",
    "version": 3
   },
   "file_extension": ".py",
   "mimetype": "text/x-python",
   "name": "python",
   "nbconvert_exporter": "python",
   "pygments_lexer": "ipython3",
   "version": "3.6.1"
  }
 },
 "nbformat": 4,
 "nbformat_minor": 2
}
