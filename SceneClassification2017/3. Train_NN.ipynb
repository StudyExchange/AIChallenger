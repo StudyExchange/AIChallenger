{
 "cells": [
  {
   "cell_type": "markdown",
   "metadata": {},
   "source": [
    "# 3. Train_NN\n",
    "\n",
    "**Tensorboard**\n",
    "- Input at command: tensorboard --logdir=./log\n",
    "- Input at browser: http://127.0.0.1:6006"
   ]
  },
  {
   "cell_type": "code",
   "execution_count": 1,
   "metadata": {},
   "outputs": [
    {
     "name": "stdout",
     "output_type": "stream",
     "text": [
      "run_name: SceneClassification_Train_NN_20171203_105335\n",
      "model_path: E:\\AIChallenger\\SceneClassification2017\\model\n",
      "feature_pca_file: E:\\AIChallenger\\SceneClassification2017\\model\\feature_pca_SceneClassification_Dim_reduction_20171202_235958.h5\n"
     ]
    }
   ],
   "source": [
    "import time\n",
    "import os\n",
    "import pandas as pd\n",
    "\n",
    "project_name = 'SceneClassification'\n",
    "step_name = 'Train_NN'\n",
    "time_str = time.strftime(\"%Y%m%d_%H%M%S\", time.localtime())\n",
    "run_name = project_name + '_' + step_name + '_' + time_str\n",
    "print('run_name: ' + run_name)\n",
    "\n",
    "cwd = os.getcwd()\n",
    "model_path = os.path.join(cwd, 'model')\n",
    "feature_pca_file = os.path.join(model_path, 'feature_pca_SceneClassification_Dim_reduction_20171202_235958.h5')\n",
    "print('model_path: ' + model_path)\n",
    "print('feature_pca_file: ' + feature_pca_file)"
   ]
  },
  {
   "cell_type": "code",
   "execution_count": 2,
   "metadata": {},
   "outputs": [
    {
     "name": "stdout",
     "output_type": "stream",
     "text": [
      "['00002ff812f48a3df27c321d517a6300ed8da0c3.jpg', '00049a860dca2af378faeb0ee6f435c6063818ef.jpg', '0011a9c9216c3763ffc33641a8ffc975127dc404.jpg', '0045a44cacc7bc9826db9b54d2dcd70b810250f9.jpg', '004b6823145471c6a4ce292e864909fde2d04969.jpg', '0056e4d54eee781117c9d407d03ebf7192126b1f.jpg', '005763f88b25b18ae524b25afcce960403665383.jpg', '005b5444df96e3a155f2a73a8dccc0267e118413.jpg', '005c6ba205a246d0d3c8f73adfd4398b8e483962.jpg', '005de85662d754f98a1476a37b189902800ace91.jpg']\n"
     ]
    }
   ],
   "source": [
    "test_images = os.listdir(os.path.join(cwd, 'input', 'data_test_a', 'test'))\n",
    "print(test_images[0:10])"
   ]
  },
  {
   "cell_type": "code",
   "execution_count": 3,
   "metadata": {},
   "outputs": [
    {
     "name": "stdout",
     "output_type": "stream",
     "text": [
      "(53879, 512)\n",
      "53879\n",
      "(7120, 512)\n",
      "7120\n",
      "(7078, 512)\n"
     ]
    }
   ],
   "source": [
    "import h5py\n",
    "import numpy as np\n",
    "\n",
    "with h5py.File(feature_pca_file, 'r') as h:\n",
    "    x_train = np.array(h['train'])\n",
    "    y_train = np.array(h['train_label'])\n",
    "    x_val = np.array(h['val'])\n",
    "    y_val = np.array(h['val_label'])\n",
    "    x_test = np.array(h['test_b'])\n",
    "\n",
    "print(x_train.shape)\n",
    "print(len(y_train))\n",
    "print(x_val.shape)\n",
    "print(len(y_val))\n",
    "print(x_test.shape)"
   ]
  },
  {
   "cell_type": "code",
   "execution_count": 4,
   "metadata": {},
   "outputs": [
    {
     "name": "stdout",
     "output_type": "stream",
     "text": [
      "(53879, 512)\n",
      "(53879,)\n"
     ]
    }
   ],
   "source": [
    "from sklearn.utils import shuffle\n",
    "\n",
    "x_train, y_train = shuffle(x_train, y_train)\n",
    "print(x_train.shape)\n",
    "print(y_train.shape)"
   ]
  },
  {
   "cell_type": "code",
   "execution_count": 5,
   "metadata": {},
   "outputs": [
    {
     "name": "stderr",
     "output_type": "stream",
     "text": [
      "Using TensorFlow backend.\n"
     ]
    },
    {
     "name": "stdout",
     "output_type": "stream",
     "text": [
      "(53879, 80)\n",
      "(7120, 80)\n"
     ]
    }
   ],
   "source": [
    "from keras.utils.np_utils import to_categorical\n",
    "\n",
    "y_train = to_categorical(y_train)\n",
    "y_val = to_categorical(y_val)\n",
    "print(y_train.shape)\n",
    "print(y_val.shape)"
   ]
  },
  {
   "cell_type": "code",
   "execution_count": 6,
   "metadata": {
    "collapsed": true
   },
   "outputs": [],
   "source": [
    "from keras.models import *\n",
    "from keras.layers import *\n",
    "from keras.optimizers import Adam\n",
    "\n",
    "model = Sequential()\n",
    "model.add(Dense(1024, input_shape=x_train.shape[1:]))\n",
    "model.add(Dropout(0.5))\n",
    "model.add(Dense(1024, activation='relu'))\n",
    "model.add(Dropout(0.5))\n",
    "model.add(Dense(1024, activation='relu'))\n",
    "model.add(Dropout(0.5))\n",
    "model.add(Dense(256, activation='relu'))\n",
    "model.add(Dropout(0.5))\n",
    "model.add(Dense(80, activation='softmax'))\n",
    "\n",
    "model.compile(optimizer=Adam(lr=1e-4),\n",
    "              loss='categorical_crossentropy',\n",
    "              metrics=['accuracy'])"
   ]
  },
  {
   "cell_type": "code",
   "execution_count": 7,
   "metadata": {},
   "outputs": [
    {
     "name": "stdout",
     "output_type": "stream",
     "text": [
      "log_dir:E:\\AIChallenger\\SceneClassification2017\\model\\SceneClassification_Train_NN_20171203_105335\n"
     ]
    }
   ],
   "source": [
    "from keras.callbacks import TensorBoard\n",
    "\n",
    "log_path = os.path.join(model_path, run_name)\n",
    "print('log_dir:' + log_path)\n",
    "\n",
    "from keras.callbacks import TensorBoard, LearningRateScheduler\n",
    "# annealer = LearningRateScheduler(lambda x: 1e-3 * 0.9 ** x) # Do not why, when add annealer, the net will be divergency\n",
    "tensorBoard = TensorBoard(log_dir=log_path)"
   ]
  },
  {
   "cell_type": "code",
   "execution_count": 8,
   "metadata": {},
   "outputs": [
    {
     "name": "stdout",
     "output_type": "stream",
     "text": [
      "Train on 53879 samples, validate on 7120 samples\n",
      "Epoch 1/200\n",
      "53879/53879 [==============================] - 1s 22us/step - loss: 4.5974 - acc: 0.0206 - val_loss: 4.2593 - val_acc: 0.2145\n",
      "Epoch 2/200\n",
      "53879/53879 [==============================] - 1s 15us/step - loss: 4.2482 - acc: 0.0476 - val_loss: 3.9753 - val_acc: 0.3087\n",
      "Epoch 3/200\n",
      "53879/53879 [==============================] - 1s 15us/step - loss: 3.9336 - acc: 0.1076 - val_loss: 3.2843 - val_acc: 0.3968\n",
      "Epoch 4/200\n",
      "53879/53879 [==============================] - 1s 15us/step - loss: 3.4693 - acc: 0.1906 - val_loss: 2.6054 - val_acc: 0.4791\n",
      "Epoch 5/200\n",
      "53879/53879 [==============================] - 1s 15us/step - loss: 3.0346 - acc: 0.2713 - val_loss: 2.1107 - val_acc: 0.5413\n",
      "Epoch 6/200\n",
      "53879/53879 [==============================] - 1s 15us/step - loss: 2.6935 - acc: 0.3345 - val_loss: 1.7969 - val_acc: 0.5848\n",
      "Epoch 7/200\n",
      "53879/53879 [==============================] - 1s 15us/step - loss: 2.4433 - acc: 0.3873 - val_loss: 1.6064 - val_acc: 0.6121\n",
      "Epoch 8/200\n",
      "53879/53879 [==============================] - 1s 15us/step - loss: 2.2703 - acc: 0.4233 - val_loss: 1.4693 - val_acc: 0.6358\n",
      "Epoch 9/200\n",
      "53879/53879 [==============================] - 1s 15us/step - loss: 2.1342 - acc: 0.4496 - val_loss: 1.3799 - val_acc: 0.6497\n",
      "Epoch 10/200\n",
      "53879/53879 [==============================] - 1s 15us/step - loss: 2.0212 - acc: 0.4783 - val_loss: 1.3035 - val_acc: 0.6596\n",
      "Epoch 11/200\n",
      "53879/53879 [==============================] - 1s 15us/step - loss: 1.9468 - acc: 0.4976 - val_loss: 1.2497 - val_acc: 0.6713\n",
      "Epoch 12/200\n",
      "53879/53879 [==============================] - 1s 15us/step - loss: 1.8723 - acc: 0.5134 - val_loss: 1.2064 - val_acc: 0.6765\n",
      "Epoch 13/200\n",
      "53879/53879 [==============================] - 1s 15us/step - loss: 1.8272 - acc: 0.5242 - val_loss: 1.1713 - val_acc: 0.6844\n",
      "Epoch 14/200\n",
      "53879/53879 [==============================] - 1s 15us/step - loss: 1.7725 - acc: 0.5373 - val_loss: 1.1418 - val_acc: 0.6910\n",
      "Epoch 15/200\n",
      "53879/53879 [==============================] - 1s 15us/step - loss: 1.7325 - acc: 0.5473 - val_loss: 1.1141 - val_acc: 0.6976\n",
      "Epoch 16/200\n",
      "53879/53879 [==============================] - 1s 15us/step - loss: 1.6851 - acc: 0.5576 - val_loss: 1.0888 - val_acc: 0.7037\n",
      "Epoch 17/200\n",
      "53879/53879 [==============================] - 1s 15us/step - loss: 1.6384 - acc: 0.5688 - val_loss: 1.0646 - val_acc: 0.7090\n",
      "Epoch 18/200\n",
      "53879/53879 [==============================] - 1s 15us/step - loss: 1.6176 - acc: 0.5744 - val_loss: 1.0492 - val_acc: 0.7133\n",
      "Epoch 19/200\n",
      "53879/53879 [==============================] - 1s 15us/step - loss: 1.5849 - acc: 0.5822 - val_loss: 1.0341 - val_acc: 0.7174\n",
      "Epoch 20/200\n",
      "53879/53879 [==============================] - 1s 15us/step - loss: 1.5662 - acc: 0.5862 - val_loss: 1.0179 - val_acc: 0.7205\n",
      "Epoch 21/200\n",
      "53879/53879 [==============================] - 1s 15us/step - loss: 1.5342 - acc: 0.5946 - val_loss: 1.0073 - val_acc: 0.7244\n",
      "Epoch 22/200\n",
      "53879/53879 [==============================] - 1s 15us/step - loss: 1.5133 - acc: 0.6015 - val_loss: 0.9962 - val_acc: 0.7239\n",
      "Epoch 23/200\n",
      "53879/53879 [==============================] - 1s 15us/step - loss: 1.4874 - acc: 0.6044 - val_loss: 0.9831 - val_acc: 0.7284\n",
      "Epoch 24/200\n",
      "53879/53879 [==============================] - 1s 15us/step - loss: 1.4687 - acc: 0.6069 - val_loss: 0.9729 - val_acc: 0.7322\n",
      "Epoch 25/200\n",
      "53879/53879 [==============================] - 1s 15us/step - loss: 1.4502 - acc: 0.6143 - val_loss: 0.9659 - val_acc: 0.7320\n",
      "Epoch 26/200\n",
      "53879/53879 [==============================] - 1s 15us/step - loss: 1.4318 - acc: 0.6182 - val_loss: 0.9559 - val_acc: 0.7351\n",
      "Epoch 27/200\n",
      "53879/53879 [==============================] - 1s 15us/step - loss: 1.4186 - acc: 0.6225 - val_loss: 0.9486 - val_acc: 0.7383\n",
      "Epoch 28/200\n",
      "53879/53879 [==============================] - 1s 15us/step - loss: 1.4053 - acc: 0.6249 - val_loss: 0.9407 - val_acc: 0.7393\n",
      "Epoch 29/200\n",
      "53879/53879 [==============================] - 1s 15us/step - loss: 1.3811 - acc: 0.6306 - val_loss: 0.9332 - val_acc: 0.7393\n",
      "Epoch 30/200\n",
      "53879/53879 [==============================] - 1s 15us/step - loss: 1.3748 - acc: 0.6356 - val_loss: 0.9279 - val_acc: 0.7416\n",
      "Epoch 31/200\n",
      "53879/53879 [==============================] - 1s 15us/step - loss: 1.3625 - acc: 0.6379 - val_loss: 0.9204 - val_acc: 0.7426\n",
      "Epoch 32/200\n",
      "53879/53879 [==============================] - 1s 15us/step - loss: 1.3498 - acc: 0.6387 - val_loss: 0.9148 - val_acc: 0.7445\n",
      "Epoch 33/200\n",
      "53879/53879 [==============================] - 1s 15us/step - loss: 1.3372 - acc: 0.6425 - val_loss: 0.9090 - val_acc: 0.7451\n",
      "Epoch 34/200\n",
      "53879/53879 [==============================] - 1s 15us/step - loss: 1.3213 - acc: 0.6464 - val_loss: 0.9039 - val_acc: 0.7445\n",
      "Epoch 35/200\n",
      "53879/53879 [==============================] - 1s 15us/step - loss: 1.3051 - acc: 0.6468 - val_loss: 0.8968 - val_acc: 0.7472\n",
      "Epoch 36/200\n",
      "53879/53879 [==============================] - 1s 15us/step - loss: 1.2945 - acc: 0.6508 - val_loss: 0.8914 - val_acc: 0.7469\n",
      "Epoch 37/200\n",
      "53879/53879 [==============================] - 1s 15us/step - loss: 1.2899 - acc: 0.6527 - val_loss: 0.8889 - val_acc: 0.7499\n",
      "Epoch 38/200\n",
      "53879/53879 [==============================] - 1s 15us/step - loss: 1.2816 - acc: 0.6534 - val_loss: 0.8846 - val_acc: 0.7503\n",
      "Epoch 39/200\n",
      "53879/53879 [==============================] - 1s 15us/step - loss: 1.2620 - acc: 0.6613 - val_loss: 0.8786 - val_acc: 0.7507\n",
      "Epoch 40/200\n",
      "53879/53879 [==============================] - 1s 15us/step - loss: 1.2522 - acc: 0.6629 - val_loss: 0.8752 - val_acc: 0.7511\n",
      "Epoch 41/200\n",
      "53879/53879 [==============================] - 1s 15us/step - loss: 1.2516 - acc: 0.6639 - val_loss: 0.8720 - val_acc: 0.7541\n",
      "Epoch 42/200\n",
      "53879/53879 [==============================] - 1s 15us/step - loss: 1.2404 - acc: 0.6666 - val_loss: 0.8680 - val_acc: 0.7538\n",
      "Epoch 43/200\n",
      "53879/53879 [==============================] - 1s 15us/step - loss: 1.2232 - acc: 0.6701 - val_loss: 0.8654 - val_acc: 0.7567\n",
      "Epoch 44/200\n",
      "53879/53879 [==============================] - 1s 15us/step - loss: 1.2257 - acc: 0.6706 - val_loss: 0.8615 - val_acc: 0.7569\n",
      "Epoch 45/200\n",
      "53879/53879 [==============================] - 1s 15us/step - loss: 1.2136 - acc: 0.6728 - val_loss: 0.8575 - val_acc: 0.7580\n",
      "Epoch 46/200\n",
      "53879/53879 [==============================] - 1s 15us/step - loss: 1.2048 - acc: 0.6720 - val_loss: 0.8551 - val_acc: 0.7576\n",
      "Epoch 47/200\n",
      "53879/53879 [==============================] - 1s 15us/step - loss: 1.2012 - acc: 0.6757 - val_loss: 0.8521 - val_acc: 0.7584\n",
      "Epoch 48/200\n",
      "53879/53879 [==============================] - 1s 15us/step - loss: 1.1913 - acc: 0.6789 - val_loss: 0.8504 - val_acc: 0.7600\n",
      "Epoch 49/200\n",
      "53879/53879 [==============================] - 1s 15us/step - loss: 1.1856 - acc: 0.6793 - val_loss: 0.8477 - val_acc: 0.7597\n",
      "Epoch 50/200\n",
      "53879/53879 [==============================] - 1s 15us/step - loss: 1.1784 - acc: 0.6828 - val_loss: 0.8452 - val_acc: 0.7608\n",
      "Epoch 51/200\n",
      "53879/53879 [==============================] - 1s 15us/step - loss: 1.1687 - acc: 0.6832 - val_loss: 0.8444 - val_acc: 0.7610\n",
      "Epoch 52/200\n",
      "53879/53879 [==============================] - 1s 15us/step - loss: 1.1599 - acc: 0.6848 - val_loss: 0.8404 - val_acc: 0.7614\n",
      "Epoch 53/200\n",
      "53879/53879 [==============================] - 1s 16us/step - loss: 1.1594 - acc: 0.6841 - val_loss: 0.8387 - val_acc: 0.7638\n",
      "Epoch 54/200\n",
      "53879/53879 [==============================] - 1s 15us/step - loss: 1.1428 - acc: 0.6881 - val_loss: 0.8377 - val_acc: 0.7628\n",
      "Epoch 55/200\n",
      "53879/53879 [==============================] - 1s 15us/step - loss: 1.1426 - acc: 0.6885 - val_loss: 0.8350 - val_acc: 0.7642\n",
      "Epoch 56/200\n",
      "53879/53879 [==============================] - 1s 15us/step - loss: 1.1426 - acc: 0.6877 - val_loss: 0.8340 - val_acc: 0.7642\n",
      "Epoch 57/200\n",
      "53879/53879 [==============================] - 1s 15us/step - loss: 1.1337 - acc: 0.6922 - val_loss: 0.8316 - val_acc: 0.7640\n",
      "Epoch 58/200\n",
      "53879/53879 [==============================] - 1s 15us/step - loss: 1.1216 - acc: 0.6943 - val_loss: 0.8288 - val_acc: 0.7645\n",
      "Epoch 59/200\n"
     ]
    },
    {
     "name": "stdout",
     "output_type": "stream",
     "text": [
      "53879/53879 [==============================] - 1s 15us/step - loss: 1.1170 - acc: 0.6939 - val_loss: 0.8285 - val_acc: 0.7653\n",
      "Epoch 60/200\n",
      "53879/53879 [==============================] - 1s 15us/step - loss: 1.1134 - acc: 0.6952 - val_loss: 0.8262 - val_acc: 0.7643\n",
      "Epoch 61/200\n",
      "53879/53879 [==============================] - 1s 15us/step - loss: 1.1107 - acc: 0.6951 - val_loss: 0.8246 - val_acc: 0.7650\n",
      "Epoch 62/200\n",
      "53879/53879 [==============================] - 1s 15us/step - loss: 1.1030 - acc: 0.6983 - val_loss: 0.8246 - val_acc: 0.7649\n",
      "Epoch 63/200\n",
      "53879/53879 [==============================] - 1s 15us/step - loss: 1.0886 - acc: 0.7003 - val_loss: 0.8216 - val_acc: 0.7647\n",
      "Epoch 64/200\n",
      "53879/53879 [==============================] - 1s 15us/step - loss: 1.0892 - acc: 0.7010 - val_loss: 0.8212 - val_acc: 0.7676\n",
      "Epoch 65/200\n",
      "53879/53879 [==============================] - 1s 15us/step - loss: 1.0841 - acc: 0.7008 - val_loss: 0.8185 - val_acc: 0.7656\n",
      "Epoch 66/200\n",
      "53879/53879 [==============================] - 1s 15us/step - loss: 1.0797 - acc: 0.7024 - val_loss: 0.8174 - val_acc: 0.7676\n",
      "Epoch 67/200\n",
      "53879/53879 [==============================] - 1s 15us/step - loss: 1.0747 - acc: 0.7048 - val_loss: 0.8159 - val_acc: 0.7683\n",
      "Epoch 68/200\n",
      "53879/53879 [==============================] - 1s 15us/step - loss: 1.0717 - acc: 0.7050 - val_loss: 0.8152 - val_acc: 0.7656\n",
      "Epoch 69/200\n",
      "53879/53879 [==============================] - 1s 15us/step - loss: 1.0704 - acc: 0.7045 - val_loss: 0.8139 - val_acc: 0.7653\n",
      "Epoch 70/200\n",
      "53879/53879 [==============================] - 1s 15us/step - loss: 1.0569 - acc: 0.7087 - val_loss: 0.8123 - val_acc: 0.7670\n",
      "Epoch 71/200\n",
      "53879/53879 [==============================] - 1s 15us/step - loss: 1.0537 - acc: 0.7092 - val_loss: 0.8106 - val_acc: 0.7671\n",
      "Epoch 72/200\n",
      "53879/53879 [==============================] - 1s 15us/step - loss: 1.0510 - acc: 0.7103 - val_loss: 0.8091 - val_acc: 0.7669\n",
      "Epoch 73/200\n",
      "53879/53879 [==============================] - 1s 14us/step - loss: 1.0468 - acc: 0.7102 - val_loss: 0.8084 - val_acc: 0.7697\n",
      "Epoch 74/200\n",
      "53879/53879 [==============================] - 1s 14us/step - loss: 1.0392 - acc: 0.7133 - val_loss: 0.8080 - val_acc: 0.7685\n",
      "Epoch 75/200\n",
      "53879/53879 [==============================] - 1s 15us/step - loss: 1.0307 - acc: 0.7134 - val_loss: 0.8072 - val_acc: 0.7680\n",
      "Epoch 76/200\n",
      "53879/53879 [==============================] - 1s 15us/step - loss: 1.0295 - acc: 0.7166 - val_loss: 0.8059 - val_acc: 0.7691\n",
      "Epoch 77/200\n",
      "53879/53879 [==============================] - 1s 15us/step - loss: 1.0298 - acc: 0.7182 - val_loss: 0.8053 - val_acc: 0.7685\n",
      "Epoch 78/200\n",
      "53879/53879 [==============================] - 1s 15us/step - loss: 1.0258 - acc: 0.7161 - val_loss: 0.8045 - val_acc: 0.7690\n",
      "Epoch 79/200\n",
      "53879/53879 [==============================] - 1s 15us/step - loss: 1.0157 - acc: 0.7193 - val_loss: 0.8025 - val_acc: 0.7687\n",
      "Epoch 80/200\n",
      "53879/53879 [==============================] - 1s 15us/step - loss: 1.0084 - acc: 0.7188 - val_loss: 0.8036 - val_acc: 0.7690\n",
      "Epoch 81/200\n",
      "53879/53879 [==============================] - 1s 15us/step - loss: 1.0093 - acc: 0.7211 - val_loss: 0.8029 - val_acc: 0.7697\n",
      "Epoch 82/200\n",
      "53879/53879 [==============================] - 1s 15us/step - loss: 1.0062 - acc: 0.7205 - val_loss: 0.8005 - val_acc: 0.7702\n",
      "Epoch 83/200\n",
      "53879/53879 [==============================] - 1s 15us/step - loss: 1.0012 - acc: 0.7214 - val_loss: 0.8006 - val_acc: 0.7695\n",
      "Epoch 84/200\n",
      "53879/53879 [==============================] - 1s 15us/step - loss: 0.9978 - acc: 0.7236 - val_loss: 0.7997 - val_acc: 0.7688\n",
      "Epoch 85/200\n",
      "53879/53879 [==============================] - 1s 15us/step - loss: 0.9940 - acc: 0.7226 - val_loss: 0.7982 - val_acc: 0.7706\n",
      "Epoch 86/200\n",
      "53879/53879 [==============================] - 1s 15us/step - loss: 0.9903 - acc: 0.7245 - val_loss: 0.7964 - val_acc: 0.7719\n",
      "Epoch 87/200\n",
      "53879/53879 [==============================] - 1s 15us/step - loss: 0.9870 - acc: 0.7258 - val_loss: 0.7957 - val_acc: 0.7718\n",
      "Epoch 88/200\n",
      "53879/53879 [==============================] - 1s 15us/step - loss: 0.9812 - acc: 0.7266 - val_loss: 0.7968 - val_acc: 0.7728\n",
      "Epoch 89/200\n",
      "53879/53879 [==============================] - 1s 15us/step - loss: 0.9728 - acc: 0.7286 - val_loss: 0.7951 - val_acc: 0.7730\n",
      "Epoch 90/200\n",
      "53879/53879 [==============================] - 1s 15us/step - loss: 0.9751 - acc: 0.7280 - val_loss: 0.7953 - val_acc: 0.7715\n",
      "Epoch 91/200\n",
      "53879/53879 [==============================] - 1s 14us/step - loss: 0.9684 - acc: 0.7289 - val_loss: 0.7965 - val_acc: 0.7723\n",
      "Epoch 92/200\n",
      "53879/53879 [==============================] - 1s 15us/step - loss: 0.9709 - acc: 0.7297 - val_loss: 0.7965 - val_acc: 0.7732\n",
      "Epoch 93/200\n",
      "53879/53879 [==============================] - 1s 15us/step - loss: 0.9584 - acc: 0.7314 - val_loss: 0.7946 - val_acc: 0.7739\n",
      "Epoch 94/200\n",
      "53879/53879 [==============================] - 1s 15us/step - loss: 0.9672 - acc: 0.7289 - val_loss: 0.7953 - val_acc: 0.7735\n",
      "Epoch 95/200\n",
      "53879/53879 [==============================] - 1s 15us/step - loss: 0.9596 - acc: 0.7329 - val_loss: 0.7940 - val_acc: 0.7729\n",
      "Epoch 96/200\n",
      "53879/53879 [==============================] - 1s 15us/step - loss: 0.9526 - acc: 0.7339 - val_loss: 0.7959 - val_acc: 0.7728\n",
      "Epoch 97/200\n",
      "53879/53879 [==============================] - 1s 15us/step - loss: 0.9452 - acc: 0.7360 - val_loss: 0.7946 - val_acc: 0.7730\n",
      "Epoch 98/200\n",
      "53879/53879 [==============================] - 1s 15us/step - loss: 0.9462 - acc: 0.7342 - val_loss: 0.7948 - val_acc: 0.7730\n",
      "Epoch 99/200\n",
      "53879/53879 [==============================] - 1s 15us/step - loss: 0.9447 - acc: 0.7344 - val_loss: 0.7944 - val_acc: 0.7747\n",
      "Epoch 100/200\n",
      "53879/53879 [==============================] - 1s 15us/step - loss: 0.9347 - acc: 0.7353 - val_loss: 0.7949 - val_acc: 0.7751\n",
      "Epoch 101/200\n",
      "53879/53879 [==============================] - 1s 15us/step - loss: 0.9363 - acc: 0.7369 - val_loss: 0.7937 - val_acc: 0.7729\n",
      "Epoch 102/200\n",
      "53879/53879 [==============================] - 1s 14us/step - loss: 0.9398 - acc: 0.7359 - val_loss: 0.7943 - val_acc: 0.7742\n",
      "Epoch 103/200\n",
      "53879/53879 [==============================] - 1s 15us/step - loss: 0.9305 - acc: 0.7375 - val_loss: 0.7927 - val_acc: 0.7736\n",
      "Epoch 104/200\n",
      "53879/53879 [==============================] - 1s 15us/step - loss: 0.9314 - acc: 0.7366 - val_loss: 0.7926 - val_acc: 0.7736\n",
      "Epoch 105/200\n",
      "53879/53879 [==============================] - 1s 15us/step - loss: 0.9170 - acc: 0.7409 - val_loss: 0.7923 - val_acc: 0.7729\n",
      "Epoch 106/200\n",
      "53879/53879 [==============================] - 1s 15us/step - loss: 0.9146 - acc: 0.7423 - val_loss: 0.7906 - val_acc: 0.7721\n",
      "Epoch 107/200\n",
      "53879/53879 [==============================] - 1s 15us/step - loss: 0.9206 - acc: 0.7405 - val_loss: 0.7906 - val_acc: 0.7706\n",
      "Epoch 108/200\n",
      "53879/53879 [==============================] - 1s 15us/step - loss: 0.9175 - acc: 0.7421 - val_loss: 0.7900 - val_acc: 0.7732\n",
      "Epoch 109/200\n",
      "53879/53879 [==============================] - 1s 15us/step - loss: 0.9117 - acc: 0.7441 - val_loss: 0.7911 - val_acc: 0.7732\n",
      "Epoch 110/200\n",
      "53879/53879 [==============================] - 1s 15us/step - loss: 0.9057 - acc: 0.7443 - val_loss: 0.7908 - val_acc: 0.7735\n",
      "Epoch 111/200\n",
      "53879/53879 [==============================] - 1s 15us/step - loss: 0.9116 - acc: 0.7418 - val_loss: 0.7914 - val_acc: 0.7736\n",
      "Epoch 112/200\n",
      "53879/53879 [==============================] - 1s 15us/step - loss: 0.9023 - acc: 0.7451 - val_loss: 0.7895 - val_acc: 0.7735\n",
      "Epoch 113/200\n",
      "53879/53879 [==============================] - 1s 15us/step - loss: 0.9001 - acc: 0.7461 - val_loss: 0.7887 - val_acc: 0.7746\n",
      "Epoch 114/200\n",
      "53879/53879 [==============================] - 1s 15us/step - loss: 0.8996 - acc: 0.7450 - val_loss: 0.7889 - val_acc: 0.7744\n",
      "Epoch 115/200\n",
      "53879/53879 [==============================] - 1s 15us/step - loss: 0.8981 - acc: 0.7473 - val_loss: 0.7886 - val_acc: 0.7737\n",
      "Epoch 116/200\n",
      "53879/53879 [==============================] - 1s 15us/step - loss: 0.8920 - acc: 0.7481 - val_loss: 0.7896 - val_acc: 0.7740\n",
      "Epoch 117/200\n",
      "53879/53879 [==============================] - 1s 15us/step - loss: 0.8836 - acc: 0.7499 - val_loss: 0.7904 - val_acc: 0.7744\n"
     ]
    },
    {
     "name": "stdout",
     "output_type": "stream",
     "text": [
      "Epoch 118/200\n",
      "53879/53879 [==============================] - 1s 15us/step - loss: 0.8848 - acc: 0.7491 - val_loss: 0.7870 - val_acc: 0.7754\n",
      "Epoch 119/200\n",
      "53879/53879 [==============================] - 1s 15us/step - loss: 0.8786 - acc: 0.7507 - val_loss: 0.7883 - val_acc: 0.7746\n",
      "Epoch 120/200\n",
      "53879/53879 [==============================] - 1s 15us/step - loss: 0.8790 - acc: 0.7501 - val_loss: 0.7864 - val_acc: 0.7740\n",
      "Epoch 121/200\n",
      "53879/53879 [==============================] - 1s 15us/step - loss: 0.8740 - acc: 0.7527 - val_loss: 0.7875 - val_acc: 0.7746\n",
      "Epoch 122/200\n",
      "53879/53879 [==============================] - 1s 15us/step - loss: 0.8702 - acc: 0.7532 - val_loss: 0.7871 - val_acc: 0.7744\n",
      "Epoch 123/200\n",
      "53879/53879 [==============================] - 1s 15us/step - loss: 0.8705 - acc: 0.7537 - val_loss: 0.7876 - val_acc: 0.7758\n",
      "Epoch 124/200\n",
      "53879/53879 [==============================] - 1s 15us/step - loss: 0.8612 - acc: 0.7533 - val_loss: 0.7883 - val_acc: 0.7770\n",
      "Epoch 125/200\n",
      "53879/53879 [==============================] - 1s 15us/step - loss: 0.8641 - acc: 0.7543 - val_loss: 0.7891 - val_acc: 0.7764\n",
      "Epoch 126/200\n",
      "53879/53879 [==============================] - 1s 15us/step - loss: 0.8578 - acc: 0.7537 - val_loss: 0.7884 - val_acc: 0.7760\n",
      "Epoch 127/200\n",
      "53879/53879 [==============================] - 1s 15us/step - loss: 0.8636 - acc: 0.7553 - val_loss: 0.7886 - val_acc: 0.7753\n",
      "Epoch 128/200\n",
      "53879/53879 [==============================] - 1s 15us/step - loss: 0.8596 - acc: 0.7554 - val_loss: 0.7889 - val_acc: 0.7757\n",
      "Epoch 129/200\n",
      "53879/53879 [==============================] - 1s 15us/step - loss: 0.8531 - acc: 0.7572 - val_loss: 0.7872 - val_acc: 0.7743\n",
      "Epoch 130/200\n",
      "53879/53879 [==============================] - 1s 15us/step - loss: 0.8490 - acc: 0.7569 - val_loss: 0.7894 - val_acc: 0.7761\n",
      "Epoch 131/200\n",
      "53879/53879 [==============================] - 1s 15us/step - loss: 0.8486 - acc: 0.7590 - val_loss: 0.7887 - val_acc: 0.7747\n",
      "Epoch 132/200\n",
      "53879/53879 [==============================] - 1s 15us/step - loss: 0.8436 - acc: 0.7590 - val_loss: 0.7914 - val_acc: 0.7751\n",
      "Epoch 133/200\n",
      "53879/53879 [==============================] - 1s 15us/step - loss: 0.8404 - acc: 0.7593 - val_loss: 0.7908 - val_acc: 0.7751\n",
      "Epoch 134/200\n",
      "53879/53879 [==============================] - 1s 15us/step - loss: 0.8382 - acc: 0.7601 - val_loss: 0.7912 - val_acc: 0.7733\n",
      "Epoch 135/200\n",
      "53879/53879 [==============================] - 1s 15us/step - loss: 0.8355 - acc: 0.7597 - val_loss: 0.7913 - val_acc: 0.7744\n",
      "Epoch 136/200\n",
      "53879/53879 [==============================] - 1s 15us/step - loss: 0.8308 - acc: 0.7617 - val_loss: 0.7939 - val_acc: 0.7756\n",
      "Epoch 137/200\n",
      "53879/53879 [==============================] - 1s 15us/step - loss: 0.8381 - acc: 0.7577 - val_loss: 0.7912 - val_acc: 0.7757\n",
      "Epoch 138/200\n",
      "53879/53879 [==============================] - 1s 15us/step - loss: 0.8281 - acc: 0.7640 - val_loss: 0.7919 - val_acc: 0.7758\n",
      "Epoch 139/200\n",
      "53879/53879 [==============================] - 1s 15us/step - loss: 0.8260 - acc: 0.7617 - val_loss: 0.7919 - val_acc: 0.7771\n",
      "Epoch 140/200\n",
      "53879/53879 [==============================] - 1s 15us/step - loss: 0.8217 - acc: 0.7643 - val_loss: 0.7902 - val_acc: 0.7765\n",
      "Epoch 141/200\n",
      "53879/53879 [==============================] - 1s 15us/step - loss: 0.8247 - acc: 0.7638 - val_loss: 0.7923 - val_acc: 0.7749\n",
      "Epoch 142/200\n",
      "53879/53879 [==============================] - 1s 15us/step - loss: 0.8203 - acc: 0.7645 - val_loss: 0.7924 - val_acc: 0.7765\n",
      "Epoch 143/200\n",
      "53879/53879 [==============================] - 1s 15us/step - loss: 0.8188 - acc: 0.7640 - val_loss: 0.7918 - val_acc: 0.7746\n",
      "Epoch 144/200\n",
      "53879/53879 [==============================] - 1s 15us/step - loss: 0.8110 - acc: 0.7671 - val_loss: 0.7919 - val_acc: 0.7740\n",
      "Epoch 145/200\n",
      "53879/53879 [==============================] - 1s 15us/step - loss: 0.8100 - acc: 0.7688 - val_loss: 0.7916 - val_acc: 0.7778\n",
      "Epoch 146/200\n",
      "53879/53879 [==============================] - 1s 15us/step - loss: 0.8120 - acc: 0.7676 - val_loss: 0.7912 - val_acc: 0.7777\n",
      "Epoch 147/200\n",
      "53879/53879 [==============================] - 1s 15us/step - loss: 0.8108 - acc: 0.7662 - val_loss: 0.7926 - val_acc: 0.7768\n",
      "Epoch 148/200\n",
      "53879/53879 [==============================] - 1s 15us/step - loss: 0.8023 - acc: 0.7688 - val_loss: 0.7925 - val_acc: 0.7772\n",
      "Epoch 149/200\n",
      "53879/53879 [==============================] - 1s 15us/step - loss: 0.8041 - acc: 0.7692 - val_loss: 0.7930 - val_acc: 0.7778\n",
      "Epoch 150/200\n",
      "53879/53879 [==============================] - 1s 15us/step - loss: 0.7949 - acc: 0.7694 - val_loss: 0.7934 - val_acc: 0.7774\n",
      "Epoch 151/200\n",
      "53879/53879 [==============================] - 1s 15us/step - loss: 0.7956 - acc: 0.7701 - val_loss: 0.7917 - val_acc: 0.7775\n",
      "Epoch 152/200\n",
      "53879/53879 [==============================] - 1s 15us/step - loss: 0.7928 - acc: 0.7716 - val_loss: 0.7924 - val_acc: 0.7784\n",
      "Epoch 153/200\n",
      "53879/53879 [==============================] - 1s 15us/step - loss: 0.7919 - acc: 0.7713 - val_loss: 0.7931 - val_acc: 0.7778\n",
      "Epoch 154/200\n",
      "53879/53879 [==============================] - 1s 15us/step - loss: 0.7883 - acc: 0.7702 - val_loss: 0.7942 - val_acc: 0.7775\n",
      "Epoch 155/200\n",
      "53879/53879 [==============================] - 1s 15us/step - loss: 0.7853 - acc: 0.7716 - val_loss: 0.7916 - val_acc: 0.7778\n",
      "Epoch 156/200\n",
      "53879/53879 [==============================] - 1s 15us/step - loss: 0.7893 - acc: 0.7726 - val_loss: 0.7944 - val_acc: 0.7778\n",
      "Epoch 157/200\n",
      "53879/53879 [==============================] - 1s 15us/step - loss: 0.7800 - acc: 0.7743 - val_loss: 0.7937 - val_acc: 0.7779\n",
      "Epoch 158/200\n",
      "53879/53879 [==============================] - 1s 15us/step - loss: 0.7795 - acc: 0.7723 - val_loss: 0.7955 - val_acc: 0.7768\n",
      "Epoch 159/200\n",
      "53879/53879 [==============================] - 1s 15us/step - loss: 0.7787 - acc: 0.7736 - val_loss: 0.7943 - val_acc: 0.7778\n",
      "Epoch 160/200\n",
      "53879/53879 [==============================] - 1s 15us/step - loss: 0.7810 - acc: 0.7737 - val_loss: 0.7941 - val_acc: 0.7782\n",
      "Epoch 161/200\n",
      "53879/53879 [==============================] - 1s 15us/step - loss: 0.7772 - acc: 0.7738 - val_loss: 0.7949 - val_acc: 0.7771\n",
      "Epoch 162/200\n",
      "53879/53879 [==============================] - 1s 15us/step - loss: 0.7686 - acc: 0.7767 - val_loss: 0.7951 - val_acc: 0.7775\n",
      "Epoch 163/200\n",
      "53879/53879 [==============================] - 1s 15us/step - loss: 0.7662 - acc: 0.7765 - val_loss: 0.7947 - val_acc: 0.7785\n",
      "Epoch 164/200\n",
      "53879/53879 [==============================] - ETA: 0s - loss: 0.7604 - acc: 0.777 - 1s 14us/step - loss: 0.7606 - acc: 0.7777 - val_loss: 0.7953 - val_acc: 0.7782\n",
      "Epoch 165/200\n",
      "53879/53879 [==============================] - 1s 15us/step - loss: 0.7694 - acc: 0.7778 - val_loss: 0.7955 - val_acc: 0.7788\n",
      "Epoch 166/200\n",
      "53879/53879 [==============================] - 1s 15us/step - loss: 0.7605 - acc: 0.7799 - val_loss: 0.7968 - val_acc: 0.7792\n",
      "Epoch 167/200\n",
      "53879/53879 [==============================] - 1s 15us/step - loss: 0.7611 - acc: 0.7783 - val_loss: 0.7966 - val_acc: 0.7799\n",
      "Epoch 168/200\n",
      "53879/53879 [==============================] - 1s 15us/step - loss: 0.7608 - acc: 0.7791 - val_loss: 0.7973 - val_acc: 0.7792\n",
      "Epoch 169/200\n",
      "53879/53879 [==============================] - 1s 15us/step - loss: 0.7552 - acc: 0.7797 - val_loss: 0.7975 - val_acc: 0.7781\n",
      "Epoch 170/200\n",
      "53879/53879 [==============================] - 1s 15us/step - loss: 0.7533 - acc: 0.7787 - val_loss: 0.7972 - val_acc: 0.7778\n",
      "Epoch 171/200\n",
      "53879/53879 [==============================] - 1s 15us/step - loss: 0.7507 - acc: 0.7818 - val_loss: 0.7965 - val_acc: 0.7774\n",
      "Epoch 172/200\n",
      "53879/53879 [==============================] - 1s 15us/step - loss: 0.7534 - acc: 0.7811 - val_loss: 0.7978 - val_acc: 0.7772\n",
      "Epoch 173/200\n",
      "53879/53879 [==============================] - 1s 15us/step - loss: 0.7463 - acc: 0.7832 - val_loss: 0.8004 - val_acc: 0.7774\n",
      "Epoch 174/200\n",
      "53879/53879 [==============================] - 1s 15us/step - loss: 0.7475 - acc: 0.7816 - val_loss: 0.7977 - val_acc: 0.7782\n",
      "Epoch 175/200\n",
      "53879/53879 [==============================] - 1s 15us/step - loss: 0.7502 - acc: 0.7809 - val_loss: 0.7985 - val_acc: 0.7777\n",
      "Epoch 176/200\n"
     ]
    },
    {
     "name": "stdout",
     "output_type": "stream",
     "text": [
      "53879/53879 [==============================] - 1s 15us/step - loss: 0.7426 - acc: 0.7813 - val_loss: 0.7992 - val_acc: 0.7788\n",
      "Epoch 177/200\n",
      "53879/53879 [==============================] - 1s 15us/step - loss: 0.7389 - acc: 0.7847 - val_loss: 0.7979 - val_acc: 0.7803\n",
      "Epoch 178/200\n",
      "53879/53879 [==============================] - 1s 15us/step - loss: 0.7421 - acc: 0.7815 - val_loss: 0.7990 - val_acc: 0.7788\n",
      "Epoch 179/200\n",
      "53879/53879 [==============================] - 1s 15us/step - loss: 0.7386 - acc: 0.7843 - val_loss: 0.8009 - val_acc: 0.7791\n",
      "Epoch 180/200\n",
      "53879/53879 [==============================] - 1s 14us/step - loss: 0.7350 - acc: 0.7846 - val_loss: 0.7994 - val_acc: 0.7789\n",
      "Epoch 181/200\n",
      "53879/53879 [==============================] - 1s 15us/step - loss: 0.7290 - acc: 0.7869 - val_loss: 0.8002 - val_acc: 0.7781\n",
      "Epoch 182/200\n",
      "53879/53879 [==============================] - 1s 15us/step - loss: 0.7288 - acc: 0.7854 - val_loss: 0.8018 - val_acc: 0.7777\n",
      "Epoch 183/200\n",
      "53879/53879 [==============================] - 1s 15us/step - loss: 0.7294 - acc: 0.7864 - val_loss: 0.8033 - val_acc: 0.7774\n",
      "Epoch 184/200\n",
      "53879/53879 [==============================] - 1s 15us/step - loss: 0.7298 - acc: 0.7871 - val_loss: 0.8032 - val_acc: 0.7794\n",
      "Epoch 185/200\n",
      "53879/53879 [==============================] - 1s 15us/step - loss: 0.7267 - acc: 0.7869 - val_loss: 0.8042 - val_acc: 0.7768\n",
      "Epoch 186/200\n",
      "53879/53879 [==============================] - 1s 15us/step - loss: 0.7186 - acc: 0.7904 - val_loss: 0.8040 - val_acc: 0.7799\n",
      "Epoch 187/200\n",
      "53879/53879 [==============================] - 1s 15us/step - loss: 0.7170 - acc: 0.7902 - val_loss: 0.8041 - val_acc: 0.7796\n",
      "Epoch 188/200\n",
      "53879/53879 [==============================] - 1s 15us/step - loss: 0.7208 - acc: 0.7874 - val_loss: 0.8037 - val_acc: 0.7787\n",
      "Epoch 189/200\n",
      "53879/53879 [==============================] - 1s 15us/step - loss: 0.7157 - acc: 0.7894 - val_loss: 0.8029 - val_acc: 0.7787\n",
      "Epoch 190/200\n",
      "53879/53879 [==============================] - 1s 15us/step - loss: 0.7159 - acc: 0.7882 - val_loss: 0.8029 - val_acc: 0.7799\n",
      "Epoch 191/200\n",
      "53879/53879 [==============================] - 1s 15us/step - loss: 0.7103 - acc: 0.7906 - val_loss: 0.8044 - val_acc: 0.7782\n",
      "Epoch 192/200\n",
      "53879/53879 [==============================] - 1s 15us/step - loss: 0.7042 - acc: 0.7921 - val_loss: 0.8036 - val_acc: 0.7794\n",
      "Epoch 193/200\n",
      "53879/53879 [==============================] - 1s 15us/step - loss: 0.7170 - acc: 0.7899 - val_loss: 0.8035 - val_acc: 0.7785\n",
      "Epoch 194/200\n",
      "53879/53879 [==============================] - 1s 15us/step - loss: 0.7004 - acc: 0.7946 - val_loss: 0.8041 - val_acc: 0.7777\n",
      "Epoch 195/200\n",
      "53879/53879 [==============================] - 1s 14us/step - loss: 0.7017 - acc: 0.7925 - val_loss: 0.8033 - val_acc: 0.7784\n",
      "Epoch 196/200\n",
      "53879/53879 [==============================] - 1s 15us/step - loss: 0.7013 - acc: 0.7933 - val_loss: 0.8040 - val_acc: 0.7777\n",
      "Epoch 197/200\n",
      "53879/53879 [==============================] - 1s 15us/step - loss: 0.7018 - acc: 0.7919 - val_loss: 0.8039 - val_acc: 0.7775\n",
      "Epoch 198/200\n",
      "53879/53879 [==============================] - 1s 15us/step - loss: 0.6978 - acc: 0.7949 - val_loss: 0.8037 - val_acc: 0.7760\n",
      "Epoch 199/200\n",
      "53879/53879 [==============================] - 1s 15us/step - loss: 0.6938 - acc: 0.7954 - val_loss: 0.8037 - val_acc: 0.7778\n",
      "Epoch 200/200\n",
      "53879/53879 [==============================] - 1s 16us/step - loss: 0.6942 - acc: 0.7944 - val_loss: 0.8033 - val_acc: 0.7779\n"
     ]
    }
   ],
   "source": [
    "hist = model.fit(x_train, y_train,\n",
    "                 batch_size=1024,\n",
    "                 epochs=200, #Increase this when not on Kaggle kernel\n",
    "                 verbose=1,  #1 for ETA, 0 for silent\n",
    "                 validation_data=(x_val, y_val), \n",
    "                 callbacks=[tensorBoard])"
   ]
  },
  {
   "cell_type": "code",
   "execution_count": 9,
   "metadata": {},
   "outputs": [
    {
     "name": "stdout",
     "output_type": "stream",
     "text": [
      "Final loss: 0.8033, final accuracy: 0.7779\n"
     ]
    }
   ],
   "source": [
    "final_loss, final_acc = model.evaluate(x_val, y_val, verbose=0)\n",
    "print(\"Final loss: {0:.4f}, final accuracy: {1:.4f}\".format(final_loss, final_acc))"
   ]
  },
  {
   "cell_type": "code",
   "execution_count": 10,
   "metadata": {},
   "outputs": [
    {
     "name": "stdout",
     "output_type": "stream",
     "text": [
      "(7120, 80)\n",
      "(7120, 80)\n"
     ]
    }
   ],
   "source": [
    "val_preds = model.predict(x_val)\n",
    "print(val_preds.shape)\n",
    "print(y_val.shape)"
   ]
  },
  {
   "cell_type": "code",
   "execution_count": 11,
   "metadata": {},
   "outputs": [
    {
     "name": "stdout",
     "output_type": "stream",
     "text": [
      "Val log_loss: 0.8040738686090223\n",
      "Val limited log_loss: 1.0569464006785596\n"
     ]
    }
   ],
   "source": [
    "from sklearn.metrics import log_loss, accuracy_score\n",
    "\n",
    "print('Val log_loss: {}'.format(log_loss(y_val, val_preds)))\n",
    "val_proba_limited = np.clip(val_preds, 0.005, 0.995)\n",
    "print('Val limited log_loss: {}'.format(log_loss(y_val, val_proba_limited)))"
   ]
  },
  {
   "cell_type": "code",
   "execution_count": 12,
   "metadata": {},
   "outputs": [
    {
     "data": {
      "image/png": "[encoded data removed]",
      "text/plain": [
       "<matplotlib.figure.Figure at 0x4352038470>"
      ]
     },
     "metadata": {},
     "output_type": "display_data"
    },
    {
     "data": {
      "image/png": "[encoded data removed]",
      "text/plain": [
       "<matplotlib.figure.Figure at 0x4353217cf8>"
      ]
     },
     "metadata": {},
     "output_type": "display_data"
    }
   ],
   "source": [
    "import matplotlib.pyplot as plt\n",
    "%matplotlib inline\n",
    "\n",
    "plt.plot(hist.history['loss'], color='b')\n",
    "plt.plot(hist.history['val_loss'], color='r')\n",
    "plt.show()\n",
    "plt.plot(hist.history['acc'], color='b')\n",
    "plt.plot(hist.history['val_acc'], color='r')\n",
    "plt.show()"
   ]
  },
  {
   "cell_type": "markdown",
   "metadata": {},
   "source": [
    "## Output"
   ]
  },
  {
   "cell_type": "code",
   "execution_count": 13,
   "metadata": {},
   "outputs": [
    {
     "name": "stdout",
     "output_type": "stream",
     "text": [
      "run_name: SceneClassification_Train_NN_20171203_105335_7779\n"
     ]
    }
   ],
   "source": [
    "run_name0 = run_name + '_' + str(int(final_acc*10000))\n",
    "print('run_name: ' + run_name0)"
   ]
  },
  {
   "cell_type": "code",
   "execution_count": 14,
   "metadata": {
    "collapsed": true
   },
   "outputs": [],
   "source": [
    "def saveModel(model, run_name):\n",
    "    cwd = os.getcwd()\n",
    "    modelPath = os.path.join(cwd, 'model')\n",
    "    if not os.path.isdir(modelPath):\n",
    "        os.mkdir(modelPath)\n",
    "    weigthsFile = os.path.join(modelPath, run_name + '.h5')\n",
    "    model.save(weigthsFile)\n",
    "saveModel(model, run_name0)"
   ]
  },
  {
   "cell_type": "code",
   "execution_count": 15,
   "metadata": {},
   "outputs": [
    {
     "name": "stdout",
     "output_type": "stream",
     "text": [
      "SceneClassification_Train_NN_20171203_105335_7779\n",
      "Done !\n"
     ]
    }
   ],
   "source": [
    "print(run_name0)\n",
    "print('Done !')"
   ]
  },
  {
   "cell_type": "code",
   "execution_count": null,
   "metadata": {
    "collapsed": true
   },
   "outputs": [],
   "source": []
  }
 ],
 "metadata": {
  "kernelspec": {
   "display_name": "Python 3",
   "language": "python",
   "name": "python3"
  },
  "language_info": {
   "codemirror_mode": {
    "name": "ipython",
    "version": 3
   },
   "file_extension": ".py",
   "mimetype": "text/x-python",
   "name": "python",
   "nbconvert_exporter": "python",
   "pygments_lexer": "ipython3",
   "version": "3.5.4"
  }
 },
 "nbformat": 4,
 "nbformat_minor": 2
}
