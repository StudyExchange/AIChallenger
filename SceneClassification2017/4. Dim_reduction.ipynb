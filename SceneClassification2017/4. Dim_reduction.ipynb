{
 "cells": [
  {
   "cell_type": "markdown",
   "metadata": {},
   "source": [
    "# 4. Dim_reduction"
   ]
  },
  {
   "cell_type": "code",
   "execution_count": 1,
   "metadata": {},
   "outputs": [
    {
     "name": "stdout",
     "output_type": "stream",
     "text": [
      "run_name: SceneClassification_Dim_reduction_20171130_211218\n",
      "model_path: E:\\AIChallenger\\SceneClassification2017\\model\n"
     ]
    }
   ],
   "source": [
    "import time\n",
    "import os\n",
    "\n",
    "project_name = 'SceneClassification'\n",
    "step_name = 'Dim_reduction'\n",
    "time_str = time.strftime(\"%Y%m%d_%H%M%S\", time.localtime())\n",
    "run_name = project_name + '_' + step_name + '_' + time_str\n",
    "print('run_name: ' + run_name)\n",
    "\n",
    "cwd = os.getcwd()\n",
    "model_path = os.path.join(cwd, 'model')\n",
    "print('model_path: ' + model_path)"
   ]
  },
  {
   "cell_type": "code",
   "execution_count": 2,
   "metadata": {},
   "outputs": [
    {
     "name": "stdout",
     "output_type": "stream",
     "text": [
      "(53879, 3584)\n",
      "53879\n",
      "(7120, 3584)\n",
      "7120\n",
      "(7040, 3584)\n"
     ]
    }
   ],
   "source": [
    "import h5py\n",
    "import numpy as np\n",
    "import pandas as pd\n",
    "from sklearn.utils import shuffle\n",
    "np.random.seed(2017)\n",
    "\n",
    "x_train = []\n",
    "y_train = {}\n",
    "x_val = []\n",
    "y_val = {}\n",
    "x_test = []\n",
    "\n",
    "cwd = os.getcwd()\n",
    "feature_cgg16 = os.path.join(cwd, 'model', 'feature_VGG16_{}.h5'.format(171023))\n",
    "feature_cgg19 = os.path.join(cwd, 'model', 'feature_VGG19_{}.h5'.format(171023))\n",
    "feature_resnet50 = os.path.join(cwd, 'model', 'feature_ResNet50_{}.h5'.format(171023))\n",
    "feature_mobilenet = os.path.join(cwd, 'model', 'feature_MobileNet_{}.h5'.format(171023))\n",
    "feature_xception = os.path.join(cwd, 'model', 'feature_Xception_{}.h5'.format(171023))\n",
    "feature_inception = os.path.join(cwd, 'model', 'feature_InceptionV3_{}.h5'.format(171127))\n",
    "feature_resnetv2 = os.path.join(cwd, 'model', 'feature_InceptionResNetV2_{}.h5'.format(171127))\n",
    "for filename in [feature_inception, feature_resnetv2]:\n",
    "    with h5py.File(filename, 'r') as h:\n",
    "        x_train.append(np.array(h['train']))\n",
    "        y_train = np.array(h['train_label'])\n",
    "        x_val.append(np.array(h['val']))\n",
    "        y_val = np.array(h['val_label'])\n",
    "        x_test.append(np.array(h['test']))\n",
    "\n",
    "# print(x_train[0].shape)\n",
    "x_train = np.concatenate(x_train, axis=-1)\n",
    "# y_train = np.concatenate(y_train, axis=0)\n",
    "x_val = np.concatenate(x_val, axis=-1)\n",
    "# y_val = np.concatenate(y_val, axis=0)\n",
    "x_test = np.concatenate(x_test, axis=-1)\n",
    "print(x_train.shape)\n",
    "# print(x_train.shape[1:])\n",
    "print(len(y_train))\n",
    "print(x_val.shape)\n",
    "print(len(y_val))\n",
    "print(x_test.shape)"
   ]
  },
  {
   "cell_type": "code",
   "execution_count": 3,
   "metadata": {},
   "outputs": [
    {
     "name": "stdout",
     "output_type": "stream",
     "text": [
      "(53879, 512)\n",
      "(7120, 512)\n",
      "(7040, 512)\n",
      "Wall time: 11min 30s\n"
     ]
    }
   ],
   "source": [
    "%%time\n",
    "from sklearn.decomposition import IncrementalPCA\n",
    "from sklearn.externals import joblib\n",
    "n_comp = 512\n",
    "ipca = IncrementalPCA(n_components=n_comp)\n",
    "ipca.fit(x_train)\n",
    "pca_x_train = ipca.transform(x_train)\n",
    "pca_x_val = ipca.transform(x_val)\n",
    "pca_x_test = ipca.transform(x_test)\n",
    "print(pca_x_train.shape)\n",
    "print(pca_x_val.shape)\n",
    "print(pca_x_test.shape)"
   ]
  },
  {
   "cell_type": "code",
   "execution_count": 4,
   "metadata": {},
   "outputs": [
    {
     "name": "stdout",
     "output_type": "stream",
     "text": [
      "E:\\AIChallenger\\SceneClassification2017\\model\\SceneClassification_Dim_reduction_20171130_211218_pca.pkl\n",
      "(53879, 512)\n",
      "(7120, 512)\n",
      "(7040, 512)\n",
      "Wall time: 16 s\n"
     ]
    }
   ],
   "source": [
    "%%time\n",
    "#save\n",
    "pca_model_file_name = run_name + '_pca.pkl'\n",
    "pca_model_path = os.path.join(model_path, pca_model_file_name)\n",
    "print(pca_model_path)\n",
    "joblib.dump(ipca, pca_model_path)\n",
    "#restore\n",
    "ipca=joblib.load(pca_model_path)\n",
    "pca_x_train = ipca.transform(x_train)\n",
    "pca_x_val = ipca.transform(x_val)\n",
    "pca_x_test = ipca.transform(x_test)\n",
    "print(pca_x_train.shape)\n",
    "print(pca_x_val.shape)\n",
    "print(pca_x_test.shape)"
   ]
  },
  {
   "cell_type": "code",
   "execution_count": 5,
   "metadata": {},
   "outputs": [
    {
     "name": "stdout",
     "output_type": "stream",
     "text": [
      "E:\\AIChallenger\\SceneClassification2017\\model\\feature_pca_SceneClassification_Dim_reduction_20171130_211218.h5\n"
     ]
    }
   ],
   "source": [
    "file_name = os.path.join(cwd, 'model', 'feature_pca_{0}.h5'.format(run_name))\n",
    "print(file_name)\n",
    "if os.path.exists(file_name):\n",
    "    os.remove(file_name)\n",
    "with h5py.File(file_name) as h:\n",
    "    h.create_dataset(\"train\", data=pca_x_train)\n",
    "    h.create_dataset(\"train_label\", data=y_train)\n",
    "    h.create_dataset(\"val\", data=pca_x_val)\n",
    "    h.create_dataset(\"val_label\", data=y_val)\n",
    "    h.create_dataset(\"test_a\", data=pca_x_test)"
   ]
  },
  {
   "cell_type": "code",
   "execution_count": 6,
   "metadata": {},
   "outputs": [
    {
     "name": "stdout",
     "output_type": "stream",
     "text": [
      "Done!\n"
     ]
    }
   ],
   "source": [
    "print('Done!')"
   ]
  },
  {
   "cell_type": "code",
   "execution_count": null,
   "metadata": {
    "collapsed": true
   },
   "outputs": [],
   "source": []
  }
 ],
 "metadata": {
  "kernelspec": {
   "display_name": "Python 3",
   "language": "python",
   "name": "python3"
  },
  "language_info": {
   "codemirror_mode": {
    "name": "ipython",
    "version": 3
   },
   "file_extension": ".py",
   "mimetype": "text/x-python",
   "name": "python",
   "nbconvert_exporter": "python",
   "pygments_lexer": "ipython3",
   "version": "3.5.4"
  }
 },
 "nbformat": 4,
 "nbformat_minor": 2
}
