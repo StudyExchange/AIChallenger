{
 "cells": [
  {
   "cell_type": "markdown",
   "metadata": {
    "collapsed": true
   },
   "source": [
    "## 2. Feature_extraction_MobileNet"
   ]
  },
  {
   "cell_type": "markdown",
   "metadata": {},
   "source": [
    "### References:\n",
    "1. https://github.com/ypwhs/dogs_vs_cats\n",
    "2. https://www.kaggle.com/yangpeiwen/keras-inception-xception-0-47"
   ]
  },
  {
   "cell_type": "markdown",
   "metadata": {
    "collapsed": true
   },
   "source": [
    "### Import pkgs"
   ]
  },
  {
   "cell_type": "code",
   "execution_count": 1,
   "metadata": {},
   "outputs": [
    {
     "name": "stderr",
     "output_type": "stream",
     "text": [
      "Using TensorFlow backend.\n"
     ]
    }
   ],
   "source": [
    "import h5py\n",
    "import os\n",
    "import time\n",
    "\n",
    "from keras.layers import *\n",
    "from keras.models import *\n",
    "from keras.applications import *\n",
    "from keras.optimizers import *\n",
    "from keras.regularizers import *\n",
    "from keras.preprocessing.image import *\n",
    "from keras.applications.inception_v3 import preprocess_input\n",
    "\n",
    "from keras.utils.np_utils import to_categorical # convert to one-hot-encoding\n",
    "from keras.optimizers import Adam, SGD\n",
    "from keras.preprocessing.image import ImageDataGenerator\n",
    "from keras.callbacks import LearningRateScheduler, TensorBoard"
   ]
  },
  {
   "cell_type": "code",
   "execution_count": 2,
   "metadata": {
    "collapsed": true
   },
   "outputs": [],
   "source": [
    "def get_features_mobile_net(MODEL, image_size, batch_size=1, lambda_func=None):\n",
    "    print('{0} start.'.format(MODEL.__name__))\n",
    "    start_time = time.time()\n",
    "    \n",
    "    width = image_size[0]\n",
    "    height = image_size[1]\n",
    "    input_tensor = Input((height, width, 3))\n",
    "    x = input_tensor\n",
    "    if lambda_func:\n",
    "        print(lambda_func.__name__)\n",
    "        x = Lambda(lambda_func)(x)\n",
    "    base_model = MODEL(input_tensor=x, weights='imagenet', include_top=False, input_shape=(height, width, 3))\n",
    "    model = Model(base_model.input, GlobalAveragePooling2D()(base_model.output))\n",
    "\n",
    "    cwd = os.getcwd()\n",
    "    data_train_path = os.path.join(cwd, 'input', 'data_train')\n",
    "    data_val_path = os.path.join(cwd, 'input', 'data_validation')\n",
    "    data_test_path  = os.path.join(cwd, 'input', 'data_test_a')\n",
    "    \n",
    "    gen = ImageDataGenerator()\n",
    "#     gen = ImageDataGenerator(zoom_range = 0.1,\n",
    "#                             height_shift_range = 0.1,\n",
    "#                             width_shift_range = 0.1,\n",
    "#                             rotation_range = 10)\n",
    "    train_generator = gen.flow_from_directory(data_train_path, image_size, shuffle=False, \n",
    "                                              batch_size=batch_size)\n",
    "    val_generator  = gen.flow_from_directory(data_val_path,  image_size, shuffle=False, \n",
    "                                              batch_size=batch_size)\n",
    "    test_generator  = gen.flow_from_directory(data_test_path,  image_size, shuffle=False, \n",
    "                                              batch_size=batch_size)\n",
    "    \n",
    "    train = model.predict_generator(train_generator, verbose=1, steps=53879)\n",
    "    val = model.predict_generator(val_generator, verbose=1, steps=7120)\n",
    "    test = model.predict_generator(test_generator, verbose=1, steps=7040)\n",
    "#     train = model.predict_generator(train_generator, verbose=1, steps=10)\n",
    "#     val = model.predict_generator(val_generator, verbose=1, steps=10)\n",
    "#     test = model.predict_generator(test_generator, verbose=1, steps=10)\n",
    "#     print(test_generator.filenames)\n",
    "    \n",
    "    file_name = os.path.join(cwd, 'model', 'feature_{0}_{1}.h5'.format(MODEL.__name__, 171023))\n",
    "    print(file_name)\n",
    "    if os.path.exists(file_name):\n",
    "        os.remove(file_name)\n",
    "    with h5py.File(file_name) as h:\n",
    "        h.create_dataset(\"train\", data=train)\n",
    "        h.create_dataset(\"train_label\", data=train_generator.classes)\n",
    "        h.create_dataset(\"val\", data=val)\n",
    "        h.create_dataset(\"val_label\", data=val_generator.classes)\n",
    "        h.create_dataset(\"test\", data=test)\n",
    "        \n",
    "    print(train.shape)\n",
    "    print(len(train_generator.classes))\n",
    "    print(val.shape)\n",
    "    print(len(val_generator.classes))\n",
    "    print(test.shape)\n",
    "    \n",
    "    print(dir(train_generator))\n",
    "    print(train_generator.num_class)\n",
    "    print(train_generator.samples)\n",
    "    print(train_generator.image_shape)\n",
    "    print(train_generator.classes)\n",
    "    \n",
    "    end_time = time.time()\n",
    "    print('Spend time: {0} s'.format(end_time-start_time))"
   ]
  },
  {
   "cell_type": "code",
   "execution_count": 3,
   "metadata": {},
   "outputs": [
    {
     "name": "stdout",
     "output_type": "stream",
     "text": [
      "MobileNet start.\n",
      "Found 53879 images belonging to 80 classes.\n",
      "Found 7120 images belonging to 80 classes.\n",
      "Found 7040 images belonging to 1 classes.\n",
      "7040/7040 [==============================] - 118s   \n",
      "E:\\SceneClassification\\model\\feature_MobileNet_171023.h5\n",
      "(53879, 1024)\n",
      "53879\n",
      "(7120, 1024)\n",
      "7120\n",
      "(7040, 1024)\n",
      "['__class__', '__delattr__', '__dict__', '__dir__', '__doc__', '__eq__', '__format__', '__ge__', '__getattribute__', '__gt__', '__hash__', '__init__', '__iter__', '__le__', '__lt__', '__module__', '__ne__', '__new__', '__next__', '__reduce__', '__reduce_ex__', '__repr__', '__setattr__', '__sizeof__', '__str__', '__subclasshook__', '__weakref__', '_flow_index', 'batch_index', 'batch_size', 'class_indices', 'class_mode', 'classes', 'color_mode', 'data_format', 'directory', 'filenames', 'image_data_generator', 'image_shape', 'index_generator', 'lock', 'n', 'next', 'num_class', 'reset', 'samples', 'save_format', 'save_prefix', 'save_to_dir', 'shuffle', 'target_size', 'total_batches_seen']\n",
      "80\n",
      "53879\n",
      "(224, 224, 3)\n",
      "[ 0  0  0 ..., 79 79 79]\n",
      "Spend time: 1168.4093685150146 s\n"
     ]
    }
   ],
   "source": [
    "get_features_mobile_net(MobileNet, (224, 224), 1)"
   ]
  },
  {
   "cell_type": "code",
   "execution_count": 4,
   "metadata": {},
   "outputs": [
    {
     "name": "stdout",
     "output_type": "stream",
     "text": [
      "Done !\n"
     ]
    }
   ],
   "source": [
    "print('Done !')"
   ]
  },
  {
   "cell_type": "code",
   "execution_count": null,
   "metadata": {
    "collapsed": true
   },
   "outputs": [],
   "source": []
  }
 ],
 "metadata": {
  "kernelspec": {
   "display_name": "Python 3",
   "language": "python",
   "name": "python3"
  },
  "language_info": {
   "codemirror_mode": {
    "name": "ipython",
    "version": 3
   },
   "file_extension": ".py",
   "mimetype": "text/x-python",
   "name": "python",
   "nbconvert_exporter": "python",
   "pygments_lexer": "ipython3",
   "version": "3.5.4"
  }
 },
 "nbformat": 4,
 "nbformat_minor": 2
}
