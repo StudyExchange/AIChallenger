{
 "cells": [
  {
   "cell_type": "markdown",
   "metadata": {
    "collapsed": true
   },
   "source": [
    "## 2. Feature_extraction_from_VGG16_to_InceptionV3"
   ]
  },
  {
   "cell_type": "markdown",
   "metadata": {},
   "source": [
    "### References:\n",
    "1. https://github.com/ypwhs/dogs_vs_cats\n",
    "2. https://www.kaggle.com/yangpeiwen/keras-inception-xception-0-47"
   ]
  },
  {
   "cell_type": "markdown",
   "metadata": {
    "collapsed": true
   },
   "source": [
    "### Import pkgs"
   ]
  },
  {
   "cell_type": "code",
   "execution_count": 11,
   "metadata": {},
   "outputs": [],
   "source": [
    "import h5py\n",
    "import os\n",
    "import time\n",
    "\n",
    "from keras.layers import *\n",
    "from keras.models import *\n",
    "from keras.applications import *\n",
    "from keras.optimizers import *\n",
    "from keras.regularizers import *\n",
    "from keras.preprocessing.image import *\n",
    "from keras.applications.inception_v3 import preprocess_input"
   ]
  },
  {
   "cell_type": "code",
   "execution_count": 15,
   "metadata": {
    "collapsed": true
   },
   "outputs": [],
   "source": [
    "def get_features(MODEL, image_size, batch_size=1, lambda_func=None):\n",
    "    print('{0} start.'.format(MODEL.__name__))\n",
    "    start_time = time.time()\n",
    "    \n",
    "    width = image_size[0]\n",
    "    height = image_size[1]\n",
    "    input_tensor = Input((height, width, 3))\n",
    "    x = input_tensor\n",
    "    if lambda_func:\n",
    "        print(lambda_func.__name__)\n",
    "        x = Lambda(lambda_func)(x)\n",
    "    base_model = MODEL(input_tensor=x, weights='imagenet', include_top=False)\n",
    "    model = Model(base_model.input, GlobalAveragePooling2D()(base_model.output))\n",
    "\n",
    "    cwd = os.getcwd()\n",
    "    data_train_path = os.path.join(cwd, 'input', 'data_train')\n",
    "    data_val_path = os.path.join(cwd, 'input', 'data_validation')\n",
    "    data_test_path  = os.path.join(cwd, 'input', 'data_test_a')\n",
    "    \n",
    "    gen = ImageDataGenerator()\n",
    "#     gen = ImageDataGenerator(zoom_range = 0.1,\n",
    "#                             height_shift_range = 0.1,\n",
    "#                             width_shift_range = 0.1,\n",
    "#                             rotation_range = 10)\n",
    "    train_generator = gen.flow_from_directory(data_train_path, image_size, shuffle=False, \n",
    "                                              batch_size=batch_size)\n",
    "    val_generator  = gen.flow_from_directory(data_val_path,  image_size, shuffle=False, \n",
    "                                              batch_size=batch_size)\n",
    "    test_generator  = gen.flow_from_directory(data_test_path,  image_size, shuffle=False, \n",
    "                                              batch_size=batch_size)\n",
    "    \n",
    "#     train = model.predict_generator(train_generator, verbose=1, steps=53879)\n",
    "#     val = model.predict_generator(val_generator, verbose=1, steps=7120)\n",
    "#     test = model.predict_generator(test_generator, verbose=1, steps=7040)\n",
    "    train = model.predict_generator(train_generator, verbose=1, steps=10)\n",
    "    val = model.predict_generator(val_generator, verbose=1, steps=10)\n",
    "    test = model.predict_generator(test_generator, verbose=1, steps=10)\n",
    "    \n",
    "    print('filenames:' + str(len(val_generator.filenames)))\n",
    "    print(val_generator.filenames[0:10])\n",
    "    print('filenames:' + str(len(test_generator.filenames)))\n",
    "    print(test_generator.filenames[0:10])\n",
    "    \n",
    "    file_name = os.path.join(cwd, 'model', 'feature_{0}_{1}.h5'.format(MODEL.__name__, 171028))\n",
    "    print(file_name)\n",
    "    if os.path.exists(file_name):\n",
    "        os.remove(file_name)\n",
    "    with h5py.File(file_name) as h:\n",
    "        h.create_dataset(\"train\", data=train)\n",
    "        h.create_dataset(\"train_label\", data=train_generator.classes)\n",
    "        h.create_dataset(\"val\", data=val)\n",
    "        h.create_dataset(\"val_label\", data=val_generator.classes)\n",
    "        h.create_dataset(\"test\", data=test)\n",
    "        \n",
    "    print(train.shape)\n",
    "    print(len(train_generator.classes))\n",
    "    print(val.shape)\n",
    "    print(len(val_generator.classes))\n",
    "    print(test.shape)\n",
    "    \n",
    "    print(dir(train_generator))\n",
    "    print(train_generator.num_class)\n",
    "    print(train_generator.samples)\n",
    "    print(train_generator.image_shape)\n",
    "    print(train_generator.classes)\n",
    "    \n",
    "    end_time = time.time()\n",
    "    print('Spend time: {0} s'.format(end_time-start_time))"
   ]
  },
  {
   "cell_type": "code",
   "execution_count": 16,
   "metadata": {},
   "outputs": [
    {
     "name": "stdout",
     "output_type": "stream",
     "text": [
      "Automatic pdb calling has been turned OFF\n"
     ]
    }
   ],
   "source": [
    "%pdb off"
   ]
  },
  {
   "cell_type": "code",
   "execution_count": 17,
   "metadata": {},
   "outputs": [
    {
     "name": "stdout",
     "output_type": "stream",
     "text": [
      "VGG16 start.\n",
      "Found 53879 images belonging to 80 classes.\n",
      "Found 7120 images belonging to 80 classes.\n",
      "Found 7040 images belonging to 1 classes.\n",
      "10/10 [==============================] - 0s     \n",
      " 5/10 [==============>...............] - ETA: 0sfilenames:7120\n",
      "['class-00\\\\003ee16dff735e8dc261846d033dc45905a795ea.jpg', 'class-00\\\\01de277ad1ce84c069f153a790a10613a33aa3a8.jpg', 'class-00\\\\029376109220f6ce852db458f9523122491bfe2d.jpg', 'class-00\\\\029fa920f9c33949784b94dfd73fb160b052124d.jpg', 'class-00\\\\060cbff33fb752f1e66ab4154e36b18e98261454.jpg', 'class-00\\\\0775702a8eb2124557f26c7dd2616e1f4dbe5fd1.jpg', 'class-00\\\\0aaa421855022b32398e4362cdfa1f0a63dcaa8a.jpg', 'class-00\\\\0b541228e84314d2fa5452797a9e1d1598a12768.jpg', 'class-00\\\\0cc687a5bccabb8a6541f5abfd72a0fabe61863c.jpg', 'class-00\\\\0ff0c7ccafae369a9c1d8e3cec8c519e01a2d4f1.jpg']\n",
      "filenames:7040\n",
      "['test\\\\00002ff812f48a3df27c321d517a6300ed8da0c3.jpg', 'test\\\\00049a860dca2af378faeb0ee6f435c6063818ef.jpg', 'test\\\\0011a9c9216c3763ffc33641a8ffc975127dc404.jpg', 'test\\\\0045a44cacc7bc9826db9b54d2dcd70b810250f9.jpg', 'test\\\\004b6823145471c6a4ce292e864909fde2d04969.jpg', 'test\\\\0056e4d54eee781117c9d407d03ebf7192126b1f.jpg', 'test\\\\005763f88b25b18ae524b25afcce960403665383.jpg', 'test\\\\005b5444df96e3a155f2a73a8dccc0267e118413.jpg', 'test\\\\005c6ba205a246d0d3c8f73adfd4398b8e483962.jpg', 'test\\\\005de85662d754f98a1476a37b189902800ace91.jpg']\n",
      "E:\\SceneClassification\\model\\feature_VGG16_171028.h5\n",
      "(10, 512)\n",
      "53879\n",
      "(10, 512)\n",
      "7120\n",
      "(10, 512)\n",
      "['__class__', '__delattr__', '__dict__', '__dir__', '__doc__', '__eq__', '__format__', '__ge__', '__getattribute__', '__gt__', '__hash__', '__init__', '__iter__', '__le__', '__lt__', '__module__', '__ne__', '__new__', '__next__', '__reduce__', '__reduce_ex__', '__repr__', '__setattr__', '__sizeof__', '__str__', '__subclasshook__', '__weakref__', '_flow_index', 'batch_index', 'batch_size', 'class_indices', 'class_mode', 'classes', 'color_mode', 'data_format', 'directory', 'filenames', 'image_data_generator', 'image_shape', 'index_generator', 'lock', 'n', 'next', 'num_class', 'reset', 'samples', 'save_format', 'save_prefix', 'save_to_dir', 'shuffle', 'target_size', 'total_batches_seen']\n",
      "80\n",
      "53879\n",
      "(224, 224, 3)\n",
      "[ 0  0  0 ..., 79 79 79]\n",
      "Spend time: 9.762756586074829 s\n"
     ]
    }
   ],
   "source": [
    "get_features(VGG16, (224, 224), 1)"
   ]
  },
  {
   "cell_type": "code",
   "execution_count": 5,
   "metadata": {},
   "outputs": [
    {
     "name": "stdout",
     "output_type": "stream",
     "text": [
      "VGG19 start.\n",
      "Found 53879 images belonging to 80 classes.\n",
      "Found 7120 images belonging to 80 classes.\n",
      "Found 7040 images belonging to 1 classes.\n",
      "7120/7120 [==============================] - 119s   \n",
      "7037/7040 [============================>.] - ETA: 0sE:\\SceneClassification\\model\\feature_VGG19_171023.h5\n",
      "(53879, 512)\n",
      "53879\n",
      "(7120, 512)\n",
      "7120\n",
      "(7040, 512)\n",
      "['__class__', '__delattr__', '__dict__', '__dir__', '__doc__', '__eq__', '__format__', '__ge__', '__getattribute__', '__gt__', '__hash__', '__init__', '__iter__', '__le__', '__lt__', '__module__', '__ne__', '__new__', '__next__', '__reduce__', '__reduce_ex__', '__repr__', '__setattr__', '__sizeof__', '__str__', '__subclasshook__', '__weakref__', '_flow_index', 'batch_index', 'batch_size', 'class_indices', 'class_mode', 'classes', 'color_mode', 'data_format', 'directory', 'filenames', 'image_data_generator', 'image_shape', 'index_generator', 'lock', 'n', 'next', 'num_class', 'reset', 'samples', 'save_format', 'save_prefix', 'save_to_dir', 'shuffle', 'target_size', 'total_batches_seen']\n",
      "80\n",
      "53879\n",
      "(224, 224, 3)\n",
      "[ 0  0  0 ..., 79 79 79]\n",
      "Spend time: 1151.726350069046 s\n"
     ]
    }
   ],
   "source": [
    "get_features(VGG19, (224, 224), 1)"
   ]
  },
  {
   "cell_type": "code",
   "execution_count": 6,
   "metadata": {},
   "outputs": [
    {
     "name": "stdout",
     "output_type": "stream",
     "text": [
      "ResNet50 start.\n",
      "Found 53879 images belonging to 80 classes.\n",
      "Found 7120 images belonging to 80 classes.\n",
      "Found 7040 images belonging to 1 classes.\n",
      "7040/7040 [==============================] - 186s   \n",
      "E:\\SceneClassification\\model\\feature_ResNet50_171023.h5\n",
      "(53879, 2048)\n",
      "53879\n",
      "(7120, 2048)\n",
      "7120\n",
      "(7040, 2048)\n",
      "['__class__', '__delattr__', '__dict__', '__dir__', '__doc__', '__eq__', '__format__', '__ge__', '__getattribute__', '__gt__', '__hash__', '__init__', '__iter__', '__le__', '__lt__', '__module__', '__ne__', '__new__', '__next__', '__reduce__', '__reduce_ex__', '__repr__', '__setattr__', '__sizeof__', '__str__', '__subclasshook__', '__weakref__', '_flow_index', 'batch_index', 'batch_size', 'class_indices', 'class_mode', 'classes', 'color_mode', 'data_format', 'directory', 'filenames', 'image_data_generator', 'image_shape', 'index_generator', 'lock', 'n', 'next', 'num_class', 'reset', 'samples', 'save_format', 'save_prefix', 'save_to_dir', 'shuffle', 'target_size', 'total_batches_seen']\n",
      "80\n",
      "53879\n",
      "(224, 224, 3)\n",
      "[ 0  0  0 ..., 79 79 79]\n",
      "Spend time: 2118.8636145591736 s\n"
     ]
    }
   ],
   "source": [
    "get_features(ResNet50, (224, 224), 1)"
   ]
  },
  {
   "cell_type": "code",
   "execution_count": 7,
   "metadata": {},
   "outputs": [
    {
     "name": "stdout",
     "output_type": "stream",
     "text": [
      "Xception start.\n",
      "preprocess_input\n",
      "Found 53879 images belonging to 80 classes.\n",
      "Found 7120 images belonging to 80 classes.\n",
      "Found 7040 images belonging to 1 classes.\n",
      "7040/7040 [==============================] - 269s   \n",
      "E:\\SceneClassification\\model\\feature_Xception_171023.h5\n",
      "(53879, 2048)\n",
      "53879\n",
      "(7120, 2048)\n",
      "7120\n",
      "(7040, 2048)\n",
      "['__class__', '__delattr__', '__dict__', '__dir__', '__doc__', '__eq__', '__format__', '__ge__', '__getattribute__', '__gt__', '__hash__', '__init__', '__iter__', '__le__', '__lt__', '__module__', '__ne__', '__new__', '__next__', '__reduce__', '__reduce_ex__', '__repr__', '__setattr__', '__sizeof__', '__str__', '__subclasshook__', '__weakref__', '_flow_index', 'batch_index', 'batch_size', 'class_indices', 'class_mode', 'classes', 'color_mode', 'data_format', 'directory', 'filenames', 'image_data_generator', 'image_shape', 'index_generator', 'lock', 'n', 'next', 'num_class', 'reset', 'samples', 'save_format', 'save_prefix', 'save_to_dir', 'shuffle', 'target_size', 'total_batches_seen']\n",
      "80\n",
      "53879\n",
      "(299, 299, 3)\n",
      "[ 0  0  0 ..., 79 79 79]\n",
      "Spend time: 2418.4485199451447 s\n"
     ]
    }
   ],
   "source": [
    "get_features(Xception, (299, 299), 1, xception.preprocess_input)"
   ]
  },
  {
   "cell_type": "code",
   "execution_count": 8,
   "metadata": {},
   "outputs": [
    {
     "name": "stdout",
     "output_type": "stream",
     "text": [
      "InceptionV3 start.\n",
      "preprocess_input\n",
      "Found 53879 images belonging to 80 classes.\n",
      "Found 7120 images belonging to 80 classes.\n",
      "Found 7040 images belonging to 1 classes.\n",
      "53879/53879 [==============================] - 3358s  \n",
      "7120/7120 [==============================] - 444s   \n",
      "7040/7040 [==============================] - 440s   \n",
      "E:\\SceneClassification\\model\\feature_InceptionV3_171023.h5\n",
      "(53879, 2048)\n",
      "53879\n",
      "(7120, 2048)\n",
      "7120\n",
      "(7040, 2048)\n",
      "['__class__', '__delattr__', '__dict__', '__dir__', '__doc__', '__eq__', '__format__', '__ge__', '__getattribute__', '__gt__', '__hash__', '__init__', '__iter__', '__le__', '__lt__', '__module__', '__ne__', '__new__', '__next__', '__reduce__', '__reduce_ex__', '__repr__', '__setattr__', '__sizeof__', '__str__', '__subclasshook__', '__weakref__', '_flow_index', 'batch_index', 'batch_size', 'class_indices', 'class_mode', 'classes', 'color_mode', 'data_format', 'directory', 'filenames', 'image_data_generator', 'image_shape', 'index_generator', 'lock', 'n', 'next', 'num_class', 'reset', 'samples', 'save_format', 'save_prefix', 'save_to_dir', 'shuffle', 'target_size', 'total_batches_seen']\n",
      "80\n",
      "53879\n",
      "(299, 299, 3)\n",
      "[ 0  0  0 ..., 79 79 79]\n",
      "Spend time: 4296.856463909149 s\n"
     ]
    }
   ],
   "source": [
    "get_features(InceptionV3, (299, 299), 1, inception_v3.preprocess_input)"
   ]
  },
  {
   "cell_type": "code",
   "execution_count": 9,
   "metadata": {},
   "outputs": [
    {
     "name": "stdout",
     "output_type": "stream",
     "text": [
      "Done !\n"
     ]
    }
   ],
   "source": [
    "print('Done !')"
   ]
  },
  {
   "cell_type": "code",
   "execution_count": null,
   "metadata": {
    "collapsed": true
   },
   "outputs": [],
   "source": []
  }
 ],
 "metadata": {
  "kernelspec": {
   "display_name": "Python 3",
   "language": "python",
   "name": "python3"
  },
  "language_info": {
   "codemirror_mode": {
    "name": "ipython",
    "version": 3
   },
   "file_extension": ".py",
   "mimetype": "text/x-python",
   "name": "python",
   "nbconvert_exporter": "python",
   "pygments_lexer": "ipython3",
   "version": "3.5.4"
  }
 },
 "nbformat": 4,
 "nbformat_minor": 2
}
